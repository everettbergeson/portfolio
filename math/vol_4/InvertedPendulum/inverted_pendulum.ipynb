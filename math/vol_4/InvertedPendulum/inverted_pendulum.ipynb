{
 "cells": [
  {
   "cell_type": "markdown",
   "metadata": {},
   "source": [
    "<h1 align=\"center\">Volume 4: Inverse Problems.</h1>\n",
    "\n",
    "    NAME\n",
    "    Section #\n",
    "    DATE"
   ]
  },
  {
   "cell_type": "code",
   "execution_count": 38,
   "metadata": {},
   "outputs": [],
   "source": [
    "import numpy as np\n",
    "from numpy.linalg import eigvals\n",
    "from scipy.linalg import inv, solve_continuous_are\n",
    "from matplotlib import pyplot as plt\n",
    "from scipy.optimize import root\n",
    "from scipy.integrate import odeint"
   ]
  },
  {
   "cell_type": "markdown",
   "metadata": {},
   "source": [
    "# Problem 1\n",
    "\n",
    "Write a function that returns the matrices A, B, Q, and R given above. Let\n",
    "g = 9.8 m/s\n",
    "2\n",
    "."
   ]
  },
  {
   "cell_type": "code",
   "execution_count": 30,
   "metadata": {},
   "outputs": [],
   "source": [
    "def linearized_init(M, m, l, q1, q2, q3, q4, r):\n",
    "    '''\n",
    "    Parameters:\n",
    "    ----------\n",
    "    M, m: floats\n",
    "          masses of the rickshaw and the present\n",
    "    l   : float\n",
    "          length of the rod\n",
    "    q1, q2, q3, q4, r : floats\n",
    "        relative weights of the position and velocity of the rickshaw, the\n",
    "        angular displacement theta and the change in theta, and the control\n",
    "\n",
    "\n",
    "    Return\n",
    "    -------\n",
    "    A : ndarray of shape (4,4)\n",
    "    B : ndarray of shape (4,1)\n",
    "    Q : ndarray of shape (4,4)\n",
    "    R : ndarray of shape (1,1)\n",
    "    '''\n",
    "    g = 9.8\n",
    "    A = np.array([[0, 1, 0, 0],\n",
    "                  [0, 0, m*g/M, 0],\n",
    "                  [0, 0, 0, 1],\n",
    "                  [0, 0, g/(M*l) * (M + m), 0]])\n",
    "    B = np.array([[0],\n",
    "                  [1/M],\n",
    "                  [0], \n",
    "                  [1/(M*l)]])\n",
    "    Q = np.array([[q1, 0, 0, 0],\n",
    "                  [0, q2, 0, 0],\n",
    "                  [0, 0, q3, 0],\n",
    "                  [0, 0, 0, q4]])\n",
    "    R = np.array([[r]])\n",
    "    return A, B, Q, R"
   ]
  },
  {
   "cell_type": "markdown",
   "metadata": {},
   "source": [
    "# Problem 2\n",
    "\n",
    "Write the following function to find the matrix P. Use scipy.optimize.root.\n",
    "Since root takes in a vector and not a matrix, you will have to reshape the matrix P before\n",
    "passing it in and after getting your result, using np.reshape(16) and np.reshape((4,4))."
   ]
  },
  {
   "cell_type": "code",
   "execution_count": 31,
   "metadata": {},
   "outputs": [],
   "source": [
    "def find_P(A,B,Q,R):\n",
    "    '''\n",
    "    Parameters:\n",
    "    ----------\n",
    "    A, B, Q : ndarrays of shape (4,4)\n",
    "    R : ndarray of shape (1,1)\n",
    "    \n",
    "    Returns\n",
    "    -------\n",
    "    P : the matrix solution of the Riccati equation\n",
    "    '''\n",
    "    def f(P):\n",
    "        P = np.reshape(P, (4,4))\n",
    "        ans = P @ A + A.T @ P + Q - P@B@ inv(R) @ B.T @ P\n",
    "        return np.reshape(ans, (16,))\n",
    "    \n",
    "    # Solve with scipy.optimize.root\n",
    "    x0 = np.ones(16)\n",
    "    sol = root(f, x0)\n",
    "    return sol.x.reshape((4,4))"
   ]
  },
  {
   "cell_type": "code",
   "execution_count": 32,
   "metadata": {},
   "outputs": [
    {
     "data": {
      "text/plain": [
       "array([-1.72875212+0.j        , -0.07538846+0.07490226j,\n",
       "       -0.07538846-0.07490226j,  1.72530814+0.j        ])"
      ]
     },
     "execution_count": 32,
     "metadata": {},
     "output_type": "execute_result"
    }
   ],
   "source": [
    "M, m = 23., 5.\n",
    "l = 4.\n",
    "q1, q2, q3, q4 = 1., 1., 1., 1.\n",
    "r = 10.\n",
    "g = 9.8\n",
    "\n",
    "A, B, Q, R = linearized_init(M, m, l, q1, q2, q3, q4, r)\n",
    "P = find_P(A, B, Q, R)\n",
    "\n",
    "eigvals(A - B @ inv(R) @ B.T @ P)"
   ]
  },
  {
   "cell_type": "markdown",
   "metadata": {},
   "source": [
    "# Problem 3\n",
    " \n",
    "Write the following function that implements the LQR solution described earlier.\n",
    "For the IVP solver, you can use your own or you may use the function odeint from scipy.\n",
    "integrate."
   ]
  },
  {
   "cell_type": "code",
   "execution_count": 35,
   "metadata": {},
   "outputs": [],
   "source": [
    "def rickshaw(tv, X0, A, B, Q, R, P):\n",
    "    '''\n",
    "    Parameters:\n",
    "    ----------\n",
    "    tv : ndarray of time values, with shape (n+1,)\n",
    "    X0 : Initial conditions on state variables\n",
    "    A, Q: ndarrays of shape (4,4)\n",
    "    B : ndarray of shape (4,1)\n",
    "    R : ndarray of shape (1,1)\n",
    "    P : ndarray of shape (4,4)\n",
    "    Returns\n",
    "    -------\n",
    "    Z : ndarray of shape (n+1,4), the state vector at each time\n",
    "    U : ndarray of shape (n+1,), the control values\n",
    "    '''\n",
    "    def f(x, t):\n",
    "        return (A - B @ inv(R) @ B.T @ P) @ x\n",
    "    # Solve using odeint\n",
    "    sol = odeint(f, X0, tv)\n",
    "    U = -inv(R)@B.T@P@sol.T\n",
    "    return sol, U"
   ]
  },
  {
   "cell_type": "markdown",
   "metadata": {},
   "source": [
    "# Problem 4\n",
    "\n",
    "Test the function made in Problem (3). Find the matrix P using the scipy.optimize.root method with tf=6 as well as the solve_continuous_are\n",
    "method with tf=60. Plot the solutions z˜ and u˜. Compare your results as shown in Figure\n",
    "21.3."
   ]
  },
  {
   "cell_type": "code",
   "execution_count": 47,
   "metadata": {},
   "outputs": [
    {
     "data": {
      "image/png": "[encoded data removed]",
      "text/plain": [
       "<Figure size 720x360 with 2 Axes>"
      ]
     },
     "metadata": {
      "needs_background": "light"
     },
     "output_type": "display_data"
    }
   ],
   "source": [
    "M, m = 23., 5.\n",
    "l = 4.\n",
    "q1, q2, q3, q4 = 1., 1., 1., 1.\n",
    "r = 10.\n",
    "tf_1 = 6\n",
    "tv_1 = np.linspace(0, tf_1, 200)\n",
    "tf_2 = 60\n",
    "tv_2 = np.linspace(0, tf_2, 200)\n",
    "X0 = np.array([-1, -1, .1, -.2])\n",
    "\n",
    "# Find P different ways\n",
    "A, B, Q, R = linearized_init(M, m, l, q1, q2, q3, q4, r)\n",
    "P_1 = find_P(A, B, Q, R)\n",
    "P_2 = solve_continuous_are(A, B, Q, R)\n",
    "\n",
    "sol1, u1 = rickshaw(tv_1, X0, A, B, Q, R, P_1)\n",
    "sol2, u2 = rickshaw(tv_2, X0, A, B, Q, R, P_2)\n",
    "\n",
    "# Plot\n",
    "fig, axs = plt.subplots(1, 2, figsize=(10, 5))\n",
    "for i in range(4):\n",
    "    axs[0].plot(tv_1, sol1[:,i])\n",
    "axs[0].plot(tv_1, u1.T)\n",
    "axs[0].set_title('scipy.optimize.root')\n",
    "\n",
    "for i in range(4):\n",
    "    axs[1].plot(tv_2, sol2[:,i])\n",
    "axs[1].plot(tv_2, u2.T)\n",
    "axs[1].set_title('solve_continuous_are')\n",
    "plt.show()"
   ]
  },
  {
   "cell_type": "code",
   "execution_count": null,
   "metadata": {},
   "outputs": [],
   "source": []
  },
  {
   "cell_type": "code",
   "execution_count": null,
   "metadata": {},
   "outputs": [],
   "source": []
  }
 ],
 "metadata": {
  "kernelspec": {
   "display_name": "Python 3",
   "language": "python",
   "name": "python3"
  },
  "language_info": {
   "codemirror_mode": {
    "name": "ipython",
    "version": 3
   },
   "file_extension": ".py",
   "mimetype": "text/x-python",
   "name": "python",
   "nbconvert_exporter": "python",
   "pygments_lexer": "ipython3",
   "version": "3.8.8"
  }
 },
 "nbformat": 4,
 "nbformat_minor": 4
}
