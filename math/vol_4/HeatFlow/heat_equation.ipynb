{
 "cells": [
  {
   "cell_type": "code",
   "execution_count": 136,
   "metadata": {},
   "outputs": [],
   "source": [
    "import numpy as np\n",
    "import matplotlib.pyplot as plt\n",
    "import scipy.linalg as la\n",
    "import matplotlib.animation as animation"
   ]
  },
  {
   "cell_type": "code",
   "execution_count": 137,
   "metadata": {},
   "outputs": [],
   "source": [
    "%matplotlib inline"
   ]
  },
  {
   "cell_type": "markdown",
   "metadata": {},
   "source": [
    "# Problem 1\n",
    "\n",
    "Consider the initial/boundary value problem\n",
    "\n",
    "\\begin{align}\n",
    "\t\\begin{split}\n",
    "\t&{ } u_t = .05 u_{xx}, \\quad x \\in [0,1], \\quad t \\in [0,1]\\\\\n",
    "\t&{ } u(0,t) = 0,\\quad u(1,t) = 0,\\\\\n",
    "\t&{ } u(x,0) = 2\\max\\{.2 - |x-.5|,0\\}.\n",
    "\t\\end{split}\n",
    "\\end{align}\n",
    "\n",
    "Approximate the solution $u(x,t)$ at time $t = .4$ by taking 6 subintervals in the $x$ dimension and 10 subintervals in time."
   ]
  },
  {
   "cell_type": "code",
   "execution_count": 138,
   "metadata": {},
   "outputs": [],
   "source": [
    "def heat_func(x, v, t, J, M, f):\n",
    "    k = t[1] - t[0]\n",
    "    h = x[1] - x[0]\n",
    "    \n",
    "    lmbda = v * k / h**2\n",
    "    # make A matrix\n",
    "    A = np.eye(M+1) * (1 - 2*lmbda)\n",
    "    for i in range(len(A) - 1):\n",
    "        A[i, i+1] = lmbda\n",
    "        A[i+1, i] = lmbda\n",
    "        \n",
    "    A[0, 0] = 1\n",
    "    A[-1, -1] = 1\n",
    "    A[-1, -2] = 0\n",
    "    A[0, 1] = 0\n",
    "    \n",
    "    U = np.zeros((J+1, M+1))\n",
    "    # get first row\n",
    "    U[0] = np.array([f(xi) for xi in x])\n",
    "    \n",
    "    # get rest of U\n",
    "    for j in range(1, J+1):\n",
    "        U[j] = A @ U[j-1]\n",
    "        \n",
    "    return U\n",
    "\n",
    "def plot_Us(domain, U, prob_name):\n",
    "    fig = plt.figure()\n",
    "    axs = fig.add_subplot(111)\n",
    "    traj, = plt.plot([],[])\n",
    "    traj_analytic, = plt.plot([], [])\n",
    "    axs.set_xlim(np.min(domain), np.max(domain))\n",
    "    axs.set_ylim(np.min(U),np.max(U))\n",
    "\n",
    "    #update function for our U plot\n",
    "    def update(i):\n",
    "        traj.set_data(domain, U[i])\n",
    "    ani = animation.FuncAnimation(fig, update, frames=U.shape[0],interval=50)\n",
    "    ani.save(prob_name + \".mp4\")\n",
    "    return ani"
   ]
  },
  {
   "cell_type": "code",
   "execution_count": 139,
   "metadata": {},
   "outputs": [
    {
     "data": {
      "image/png": "[encoded data removed]",
      "text/plain": [
       "<Figure size 432x288 with 1 Axes>"
      ]
     },
     "metadata": {
      "needs_background": "light"
     },
     "output_type": "display_data"
    },
    {
     "data": {
      "image/png": "[encoded data removed]",
      "text/plain": [
       "<Figure size 432x288 with 1 Axes>"
      ]
     },
     "metadata": {
      "needs_background": "light"
     },
     "output_type": "display_data"
    }
   ],
   "source": [
    "v = .05\n",
    "a = 0\n",
    "b = 1\n",
    "f = lambda x: 2 * max([.2 - abs(x - .5), 0])\n",
    "x_int = 6\n",
    "t_int = 10\n",
    "x = np.linspace(a, b, x_int + 1)\n",
    "t = np.linspace(0, 1, t_int + 1)\n",
    "\n",
    "ys = heat_func(x, v, t, t_int, x_int, f)\n",
    "\n",
    "# Show u0\n",
    "plt.plot(x, ys[0], marker='o')\n",
    "plt.ylim(-.1, .5)\n",
    "plt.title(r'$U^0$')\n",
    "plt.show()\n",
    "\n",
    "# Show u4\n",
    "plt.plot(x, ys[3], marker='o')\n",
    "plt.ylim(-.1, .5)\n",
    "plt.title(r'$U^4$')\n",
    "plt.show()\n"
   ]
  },
  {
   "cell_type": "markdown",
   "metadata": {},
   "source": [
    "# Problem 2\n",
    "\n",
    "Solve the initial/boundary value problem\n",
    "\n",
    "\\begin{align}\n",
    "\t\\begin{split}\n",
    "\t&{ } u_t = u_{xx}, \\quad x \\in [-12,12],\\quad t \\in [0,1], \\\\\n",
    "\t&{ } u(-12,t) = 0,\\quad u(12,t) = 0,\\\\\n",
    "\t&{ } u(x,0) = \\max\\{1 - x^2,0\\}\n",
    "\t\\end{split}\n",
    "\\end{align}\n",
    "\n",
    "using the first order explicit method (1.1).\n",
    "Use 140 subintervals in the $x$ dimension and 70 subintervals in time.\n",
    "The initial and final states are shown in Figures 1 and 2.\n",
    "Animate your results.\n",
    "\n",
    "Explicit methods usually have a stability condition, called a CFL condition (for Courant-Friedrichs-Lewy).\n",
    "For method (1.1) the CFL condition that must be satisfied is that:\n",
    "\n",
    "$$\\lambda \\leq \\frac{1}{2}$$\n",
    "\n",
    "Repeat your computations using 140 subintervals in the $x$ dimension and 66 subintervals in time. Animate the results.\n",
    "For these values the CFL condition is broken; you should easily see the result of this instability in the approximation $U^{66}$.\n"
   ]
  },
  {
   "cell_type": "code",
   "execution_count": 140,
   "metadata": {},
   "outputs": [
    {
     "name": "stdout",
     "output_type": "stream",
     "text": [
      "\n"
     ]
    },
    {
     "data": {
      "image/png": "[encoded data removed]",
      "text/plain": [
       "<Figure size 432x288 with 1 Axes>"
      ]
     },
     "metadata": {
      "needs_background": "light"
     },
     "output_type": "display_data"
    }
   ],
   "source": [
    "v = 1\n",
    "a = -12\n",
    "b = 12\n",
    "f = lambda x: max([1 - x**2, 0])\n",
    "x_int = 140\n",
    "t_int = 70\n",
    "x = np.linspace(a, b, x_int + 1)\n",
    "t = np.linspace(0, 1, t_int + 1)\n",
    "\n",
    "ys = heat_func(x, v, t, t_int, x_int, f)\n",
    "\n",
    "plot_Us(x, ys, \"heat_equation1\")\n",
    "plt.ioff()\n",
    "print('')"
   ]
  },
  {
   "cell_type": "markdown",
   "metadata": {},
   "source": [
    "<video src=\"heat_equation1.mp4\" controls>"
   ]
  },
  {
   "cell_type": "code",
   "execution_count": 141,
   "metadata": {},
   "outputs": [
    {
     "name": "stdout",
     "output_type": "stream",
     "text": [
      "\n"
     ]
    },
    {
     "data": {
      "image/png": "[encoded data removed]",
      "text/plain": [
       "<Figure size 432x288 with 1 Axes>"
      ]
     },
     "metadata": {
      "needs_background": "light"
     },
     "output_type": "display_data"
    }
   ],
   "source": [
    "v = 1\n",
    "a = -12\n",
    "b = 12\n",
    "f = lambda x: max([1 - x**2, 0])\n",
    "x_int = 140\n",
    "t_int = 66\n",
    "x = np.linspace(a, b, x_int + 1)\n",
    "t = np.linspace(0, 1, t_int + 1)\n",
    "\n",
    "ys = heat_func(x, v, t, t_int, x_int, f)\n",
    "plt.ioff()\n",
    "plot_Us(x, ys, \"heat_equation2\")\n",
    "print('')"
   ]
  },
  {
   "cell_type": "markdown",
   "metadata": {},
   "source": [
    "<video src=\"heat_equation2.mp4\" controls>"
   ]
  },
  {
   "cell_type": "markdown",
   "metadata": {},
   "source": [
    "# Problem 3\n",
    "\n",
    "Using the Crank Nicolson method, numerically approximate the solution $u(x,t)$ of the problem\n",
    "\n",
    "\\begin{align}\n",
    "\t\\begin{split}\n",
    "\t&{ } u_t = u_{xx}, \\quad x \\in [-12,12],\\quad t \\in [0,1],\\\\\n",
    "\t&{ } u(-12,t) = 0,\\quad u(12,t) = 0,\\\\\n",
    "\t&{ } u(x,0) = \\max\\{1 - x^2,0\\}.\n",
    "\t\\end{split}\n",
    "\\end{align}\n",
    "\n",
    "Demonstrate that the numerical approximation at $t = 1$ converges to  $u(x,t=1)$.\n",
    "Do this by computing $U$ at $t=1$ using $20,40,80,160,320$, and $640$ steps.\n",
    "Use the same number of steps in both time and space.\n",
    "Reproduce the loglog plot shown in Figure 4.\n",
    "The slope of the line there shows the proper rate of convergence.\n",
    "\n",
    "To measure the error, use the solution with the smallest $h$ (largest number of intervals) as if it were the exact solution, then sample each solution only at the x-values that are represented in the solution with the largest $h$ (smallest number of intervals).\n",
    "Use the $\\infty$-norm on the arrays of values at those points to measure the error.\n",
    "\n",
    "Notice that, since the Crank-Nicolson method is unconditionally stable, there is no CFL condition and we can use the same number of intervals in time and space."
   ]
  },
  {
   "cell_type": "code",
   "execution_count": 171,
   "metadata": {},
   "outputs": [
    {
     "name": "stdout",
     "output_type": "stream",
     "text": [
      "0.017361111111111133\n",
      "0.034722222222222265\n",
      "0.06944444444444411\n",
      "0.13888888888888823\n"
     ]
    },
    {
     "ename": "ValueError",
     "evalue": "operands could not be broadcast together with shapes (21,161) (21,21) ",
     "output_type": "error",
     "traceback": [
      "\u001b[1;31m---------------------------------------------------------------------------\u001b[0m",
      "\u001b[1;31mValueError\u001b[0m                                Traceback (most recent call last)",
      "\u001b[1;32m<ipython-input-171-cf3f727d121e>\u001b[0m in \u001b[0;36m<module>\u001b[1;34m\u001b[0m\n\u001b[0;32m     62\u001b[0m     \u001b[0mh\u001b[0m \u001b[1;33m=\u001b[0m \u001b[0mx\u001b[0m\u001b[1;33m[\u001b[0m\u001b[1;36m1\u001b[0m\u001b[1;33m]\u001b[0m\u001b[1;33m-\u001b[0m\u001b[0mx\u001b[0m\u001b[1;33m[\u001b[0m\u001b[1;36m0\u001b[0m\u001b[1;33m]\u001b[0m\u001b[1;33m\u001b[0m\u001b[1;33m\u001b[0m\u001b[0m\n\u001b[0;32m     63\u001b[0m     \u001b[0mdownsampled\u001b[0m \u001b[1;33m=\u001b[0m \u001b[0mnp\u001b[0m\u001b[1;33m.\u001b[0m\u001b[0marray\u001b[0m\u001b[1;33m(\u001b[0m\u001b[0mUs\u001b[0m\u001b[1;33m[\u001b[0m\u001b[0mi\u001b[0m\u001b[1;33m]\u001b[0m\u001b[1;33m[\u001b[0m\u001b[1;33m:\u001b[0m\u001b[1;33m:\u001b[0m\u001b[1;36m2\u001b[0m\u001b[1;33m**\u001b[0m\u001b[0mi\u001b[0m\u001b[1;33m]\u001b[0m\u001b[1;33m)\u001b[0m\u001b[1;33m\u001b[0m\u001b[1;33m\u001b[0m\u001b[0m\n\u001b[1;32m---> 64\u001b[1;33m     \u001b[0merror\u001b[0m \u001b[1;33m=\u001b[0m \u001b[0mnp\u001b[0m\u001b[1;33m.\u001b[0m\u001b[0mlinalg\u001b[0m\u001b[1;33m.\u001b[0m\u001b[0mnorm\u001b[0m\u001b[1;33m(\u001b[0m\u001b[0mexact\u001b[0m\u001b[1;33m-\u001b[0m\u001b[0mdownsampled\u001b[0m\u001b[1;33m,\u001b[0m\u001b[0mnp\u001b[0m\u001b[1;33m.\u001b[0m\u001b[0minf\u001b[0m\u001b[1;33m)\u001b[0m\u001b[1;33m\u001b[0m\u001b[1;33m\u001b[0m\u001b[0m\n\u001b[0m\u001b[0;32m     65\u001b[0m     \u001b[0merrors\u001b[0m\u001b[1;33m.\u001b[0m\u001b[0mappend\u001b[0m\u001b[1;33m(\u001b[0m\u001b[0merror\u001b[0m\u001b[1;33m)\u001b[0m\u001b[1;33m\u001b[0m\u001b[1;33m\u001b[0m\u001b[0m\n\u001b[0;32m     66\u001b[0m     \u001b[0mhs\u001b[0m\u001b[1;33m.\u001b[0m\u001b[0mappend\u001b[0m\u001b[1;33m(\u001b[0m\u001b[0mh\u001b[0m\u001b[1;33m)\u001b[0m\u001b[1;33m\u001b[0m\u001b[1;33m\u001b[0m\u001b[0m\n",
      "\u001b[1;31mValueError\u001b[0m: operands could not be broadcast together with shapes (21,161) (21,21) "
     ]
    }
   ],
   "source": [
    "def heat_cn(nu,f,xbounds,tbounds,xsteps,tsteps):\n",
    "    \"\"\"Computes the Crank-Nicholson solution to the heat equation initial/boundary\n",
    "    value problem:\n",
    "    \n",
    "        u_t = νu_xx, x∈[x0,x1] t∈[t0,t1]\n",
    "        u(x0,t) = 0, u(x1,t) = 0\n",
    "        u(x,0) = f(x)\n",
    "    \"\"\"\n",
    "    x_domain = np.linspace(xbounds[0], xbounds[1], xsteps + 1)\n",
    "    t_domain = np.linspace(tbounds[0], tbounds[1], tsteps + 1)\n",
    "\n",
    "    k = t_domain[1] - t_domain[0]\n",
    "    h = x_domain[1] - x_domain[0]\n",
    "    \n",
    "    lmbda = nu * k / (2 * h**2)\n",
    "    print(lmbda)\n",
    "    \n",
    "    # make A matrix\n",
    "    A = np.eye(xsteps + 1) * (1 + 2*lmbda)\n",
    "    for i in range(len(A) - 1):\n",
    "        A[i, i+1] = -lmbda\n",
    "        A[i+1, i] = -lmbda\n",
    "        \n",
    "    A[0, 0] = 1\n",
    "    A[-1, -1] = 1\n",
    "    A[-1, -2] = 0\n",
    "    A[0, 1] = 0\n",
    "    \n",
    "    B = np.eye(xsteps + 1) * (1 - 2*lmbda)\n",
    "    for i in range(len(A) - 1):\n",
    "        B[i, i+1] = lmbda\n",
    "        B[i+1, i] = lmbda\n",
    "        \n",
    "    B[0, 0] = 1\n",
    "    B[-1, -1] = 1\n",
    "    B[-1, -2] = 0\n",
    "    B[0, 1] = 0\n",
    "\n",
    "    U = np.zeros((tsteps+1, xsteps+1))\n",
    "    # get first row\n",
    "    U[0] = np.array([f(x) for x in x_domain])\n",
    "\n",
    "    # get rest of U\n",
    "    for j in range(1, tsteps+1):\n",
    "        U[j] = la.solve(B, A @ U[j-1])\n",
    "                \n",
    "    return U\n",
    "                        \n",
    "f = lambda x: np.max([1 - x**2, 0])\n",
    "Us = []\n",
    "hs = [20, 40, 80, 160]\n",
    "for h in hs:\n",
    "    Us.append(heat_cn(1, f, (-12, 12), (0, 1), h, h))\n",
    "    \n",
    "true_solution = Us[-1]\n",
    "E = []\n",
    "for u in Us[:-1]:\n",
    "    E.append(la.norm(u - true_solution, np.inf))\n",
    "plt.loglog(hs, E)\n",
    "plt.loglog(hs,np.array(hs)**2)\n",
    "plt.legend()\n",
    "plt.title('Problem 3')"
   ]
  },
  {
   "cell_type": "code",
   "execution_count": null,
   "metadata": {},
   "outputs": [],
   "source": []
  },
  {
   "cell_type": "code",
   "execution_count": null,
   "metadata": {},
   "outputs": [],
   "source": []
  }
 ],
 "metadata": {
  "kernelspec": {
   "display_name": "Python 3",
   "language": "python",
   "name": "python3"
  },
  "language_info": {
   "codemirror_mode": {
    "name": "ipython",
    "version": 3
   },
   "file_extension": ".py",
   "mimetype": "text/x-python",
   "name": "python",
   "nbconvert_exporter": "python",
   "pygments_lexer": "ipython3",
   "version": "3.8.8"
  }
 },
 "nbformat": 4,
 "nbformat_minor": 2
}
