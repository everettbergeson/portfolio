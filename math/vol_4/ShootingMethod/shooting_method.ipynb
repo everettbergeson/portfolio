{
 "cells": [
  {
   "cell_type": "markdown",
   "metadata": {},
   "source": [
    "<h1 align=\"center\">Volume 4: Inverse Problems.</h1>\n",
    "\n",
    "    NAME\n",
    "    Section #\n",
    "    DATE"
   ]
  },
  {
   "cell_type": "code",
   "execution_count": null,
   "metadata": {},
   "outputs": [],
   "source": []
  },
  {
   "cell_type": "code",
   "execution_count": null,
   "metadata": {},
   "outputs": [],
   "source": [
    "def find_t(f,a,b,alpha,beta,t0,t1,maxI):\n",
    "    sol1 = 0    # Just be careful that t0 != t1 and sol1 != beta\n",
    "    i = 0\n",
    "    while abs(sol1-beta) > 10**-8 and i < maxI:\n",
    "        sol0 = odeint(f,np.array([alpha,t0]), [a,b],atol=1e-10)[1,0]\n",
    "        sol1 = odeint(f,np.array([alpha,t1]), [a,b],atol=1e-10)[1,0]\n",
    "        t2 = t1 - (sol1 - beta)*(t1-t0)/(sol1-sol0)    # This is the update function\n",
    "        t0 = t1\n",
    "        t1 = t2\n",
    "        i = i+1\n",
    "    if i == maxI:\n",
    "        print(\"t not found\")\n",
    "    return t2\n",
    "\n",
    "def solveSecant(f,X,a,b,alpha,beta,t0,t1,maxI):\n",
    "    '''\n",
    "    First find the derivative t that forces the differential equation to begin and end where you want.\n",
    "    Then graph the solution.\n",
    "    '''\n",
    "    t = find_t(f,a,b,alpha,beta,t0,t1,maxI)\n",
    "    sol = odeint(f,np.array([alpha,t]), X,atol=1e-10)[:,0]\n",
    "    return sol\n",
    "\n",
    "def ode(y,x):\n",
    "    return np.array([y[1], -4*y[0]-9*np.sin(x)])"
   ]
  },
  {
   "cell_type": "markdown",
   "metadata": {},
   "source": [
    "# Problem 1\n",
    "\n",
    "Appropriately defined initial value problems will usually have a unique solution.\n",
    "Boundary value problems are not so straightforward; they may have no solution or they may\n",
    "have several. You may have to determine which solution is physically interesting. The following\n",
    "bvp has at least two solutions. Using the secant method, find and plot both numerical solutions and\n",
    "their initial slopes. What initial values t0, t1 did you use\n",
    "to find them?"
   ]
  },
  {
   "cell_type": "code",
   "execution_count": null,
   "metadata": {},
   "outputs": [],
   "source": []
  },
  {
   "cell_type": "markdown",
   "metadata": {},
   "source": [
    "# Problem 2\n",
    "\n",
    "Use Newton's method to solve the BVP\n",
    "y\n",
    "00 = 3 +\n",
    "2y\n",
    "x\n",
    "2\n",
    ", x ∈ [1, e],\n",
    "y(1) = 6,\n",
    "y(e) = e\n",
    "2 + 6/e.\n",
    "Plot your solution."
   ]
  },
  {
   "cell_type": "code",
   "execution_count": null,
   "metadata": {},
   "outputs": [],
   "source": []
  },
  {
   "cell_type": "markdown",
   "metadata": {},
   "source": [
    "# Problem 3\n",
    "\n",
    "Suppose a projectile is fired from a cannon with velocity 45 m/s2\n",
    ". At what angle\n",
    "θ(0) should it be fired to land at a distance of 195 m?\n",
    "There should be two initial angles θ(0) that produce a solution for this bvp. Use the\n",
    "secant method to numerically compute and then plot both trajectories.\n",
    "dy\n",
    "dx = tan θ,\n",
    "dv\n",
    "dx = −\n",
    "g sin θ + µv2\n",
    "v cos θ\n",
    ",\n",
    "dθ\n",
    "dx = −\n",
    "g\n",
    "v\n",
    "2\n",
    ",\n",
    "y(0) = y(195) = 0,\n",
    "v(0) = 45 m/s2\n",
    "(20.8)\n",
    "(g = 9.8067 m/s2\n",
    ".) Find and plot both solutions for this boundary value problem when µ = .0003.\n",
    "Compare with the solutions when µ = 0."
   ]
  },
  {
   "cell_type": "code",
   "execution_count": null,
   "metadata": {},
   "outputs": [],
   "source": []
  }
 ],
 "metadata": {
  "kernelspec": {
   "display_name": "Python 3",
   "language": "python",
   "name": "python3"
  },
  "language_info": {
   "codemirror_mode": {
    "name": "ipython",
    "version": 3
   },
   "file_extension": ".py",
   "mimetype": "text/x-python",
   "name": "python",
   "nbconvert_exporter": "python",
   "pygments_lexer": "ipython3",
   "version": "3.8.5"
  }
 },
 "nbformat": 4,
 "nbformat_minor": 4
}
