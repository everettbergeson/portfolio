{
 "cells": [
  {
   "cell_type": "markdown",
   "metadata": {},
   "source": [
    "# Wave Equation\n",
    "\n",
    "## Everett Bergeson\n",
    "\n",
    "## Math 437\n",
    "\n",
    "## DATE"
   ]
  },
  {
   "cell_type": "code",
   "execution_count": 1,
   "metadata": {},
   "outputs": [],
   "source": [
    "import numpy as np\n",
    "import matplotlib.pyplot as plt\n",
    "from matplotlib import animation\n",
    "from scipy import optimize as opt\n",
    "%matplotlib notebook"
   ]
  },
  {
   "cell_type": "markdown",
   "metadata": {},
   "source": [
    "# Problem 1\n",
    "Numerically approximate the solution to the following BVP\n",
    "\n",
    "$$\n",
    "u_{tt} = u_{xx} \\\\\n",
    "u(0,t) = u(1,t) = 0, \\\\\n",
    "u(x,0) = \\sin(2\\pi x), \\\\\n",
    "u_t(x,0) = 0. \n",
    "$$\n",
    "\n",
    "Numerically approximate the solution $u(x,t)$ for $t\\in[0,0.5]$. Use $J=50$ subintervals in the $x$ dimension and $M=50$ subintervals in the $t$ dimension. Animate the results. Compare you results with the analytic solution $u(x,t) = \\sin(2\\pi x)\\cos(2\\pi t).$ This function is know as a standing wave."
   ]
  },
  {
   "cell_type": "code",
   "execution_count": 14,
   "metadata": {},
   "outputs": [],
   "source": [
    "def solve(s, M, J, t0, tf, x0, xf, f, g):\n",
    "    \"\"\"\n",
    "    s -> u_tt = s^2 * u_xx\n",
    "    f -> u(x, 0)\n",
    "    g -> u_t(x, 0)\n",
    "    \"\"\"\n",
    "    t_s = np.linspace(t0, tf, M + 1)\n",
    "    x_s = np.linspace(x0, xf, J + 1)\n",
    "    delta_t = t_s[1] - t_s[0]\n",
    "    delta_x = x_s[1] - x_s[0]\n",
    "\n",
    "    # Calculate lambda, create A matrix\n",
    "    lam = s * delta_t / delta_x\n",
    "    A = np.eye(J - 1) * 2 * (1 - lam ** 2)\n",
    "    for i in range(len(A) - 1):\n",
    "        A[i, i+1] = lam**2 \n",
    "        A[i+1, i] = lam**2\n",
    "    \n",
    "    U = np.zeros((M+1, J+1))\n",
    "    # First and last columns stay 0\n",
    "    # First row is f(x)\n",
    "    U[0] = f(x_s)\n",
    "    \n",
    "    # Create U[1]\n",
    "    for j in range(1,J):\n",
    "        second_term = U[0,j-1] - 2 * U[0,j] + U[0,j+1]\n",
    "        U[1,j] = U[0,j] + (g(x_s[j]) * delta_t) + ((lam**2) * second_term / 2)\n",
    "    # Do the rest\n",
    "    for m in range(2, M-1):\n",
    "        U[m,1:-1] = A @ U[m-1,1:-1] - U[m-2,1:-1]\n",
    "    return U"
   ]
  },
  {
   "cell_type": "code",
   "execution_count": 3,
   "metadata": {},
   "outputs": [],
   "source": [
    "def plot_Us(domain, U, prob_name):\n",
    "    fig = plt.figure()\n",
    "    axs = fig.add_subplot(111)\n",
    "    traj, = plt.plot([],[])\n",
    "    traj_analytic, = plt.plot([], [])\n",
    "    axs.set_xlim(0,1)\n",
    "    axs.set_ylim(-1,1)\n",
    "\n",
    "    #update function for our U plot\n",
    "    def update(i):\n",
    "        traj.set_data(domain, U[i])\n",
    "    ani = animation.FuncAnimation(fig, update, frames=U.shape[0],interval=50)\n",
    "    ani.save(prob_name + \".mp4\")\n",
    "    return ani"
   ]
  },
  {
   "cell_type": "code",
   "execution_count": 13,
   "metadata": {
    "scrolled": true
   },
   "outputs": [
    {
     "name": "stdout",
     "output_type": "stream",
     "text": [
      "Problem 1\n"
     ]
    }
   ],
   "source": [
    "# Problem 1\n",
    "\n",
    "s = 1\n",
    "M = 50\n",
    "J = 50\n",
    "t0, tf = 0, .5\n",
    "x0, xf = 0, 1\n",
    "\n",
    "f = lambda x: np.sin(2 * np.pi * x)\n",
    "g = lambda x: 0\n",
    "\n",
    "U = solve(s, M, J, t0, tf, x0, xf, f, g)\n",
    "plot_Us(np.linspace(x0, xf, M+1), U, \"prob_1\")\n",
    "plt.ioff()\n",
    "print(\"Problem 1\")"
   ]
  },
  {
   "cell_type": "markdown",
   "metadata": {},
   "source": [
    "<video controls src=\"prob_1.mp4\" />"
   ]
  },
  {
   "cell_type": "markdown",
   "metadata": {},
   "source": [
    "# Problem 2\n",
    "\n",
    "Consider the boundary value problem \n",
    "\n",
    "$$\n",
    "u_{tt} = u_{xx}, \\\\\n",
    "u(0,t) = u(1,t) = 0, \\\\\n",
    "u(x,0) = 0.2e^{-m^2(x-1/2)^2} \\\\\n",
    "u_t(x,0) = 0.4m^2(x-\\frac{1}{2})e^{-m^2(x-1/2)^2}.\n",
    "$$\n",
    "\n",
    "The solution of this problem is ta Gaussian pulse. It travels to the right at a constant speed. This solution models, for example, a wave pulse in a stretched string. Note that the fixed boundary conditions reflect the pulse back when it meets the boundary.\n",
    "\n",
    "Numerically approximate the solution $u(x,t)$ for $t\\in[0,1]$. Set $m=20$. Use 200 subintervals in space and 220 in time, and animate your results. Then use 200 subintervals in space and 180 in time, and animate your results. Note that the stability condition is not satisfied for the second mesh."
   ]
  },
  {
   "cell_type": "code",
   "execution_count": 15,
   "metadata": {},
   "outputs": [
    {
     "name": "stdout",
     "output_type": "stream",
     "text": [
      "Problem 2\n"
     ]
    }
   ],
   "source": [
    "s = 1\n",
    "M = 220\n",
    "J = 200\n",
    "x0 = 0\n",
    "xf = 1\n",
    "t0 = 0\n",
    "tf = 1\n",
    "\n",
    "m = 20\n",
    "f = lambda x: .2 * np.exp(-1 * m**2 * (x - 1/2) ** 2)\n",
    "g = lambda x: .4 * m**2 * (x - 1/2) * np.exp(-1 * m**2 * (x - 1/2) ** 2)\n",
    "\n",
    "U = solve(s, M, J, t0, tf, x0, xf, f, g)\n",
    "plot_Us(np.linspace(x0, xf, J+1), U, \"prob_2\")\n",
    "plt.ioff()\n",
    "print(\"Problem 2\")"
   ]
  },
  {
   "cell_type": "markdown",
   "metadata": {},
   "source": [
    "<video controls src=\"prob_2.mp4\" />"
   ]
  },
  {
   "cell_type": "code",
   "execution_count": 16,
   "metadata": {},
   "outputs": [
    {
     "name": "stdout",
     "output_type": "stream",
     "text": [
      "Problem 2 part ii\n"
     ]
    }
   ],
   "source": [
    "s = 1\n",
    "M = 180   # Update time to 180\n",
    "J = 200\n",
    "x0 = 0\n",
    "xf = 1\n",
    "t0 = 0\n",
    "tf = 1\n",
    "\n",
    "m = 20\n",
    "f = lambda x: .2 * np.exp(-1 * m**2 * (x - 1/2) ** 2)\n",
    "g = lambda x: .4 * m**2 * (x - 1/2) * np.exp(-1 * m**2 * (x - 1/2) ** 2)\n",
    "\n",
    "U1 = solve(s, M, J, t0, tf, x0, xf, f, g)\n",
    "plot_Us(np.linspace(x0, xf, J + 1), U1, \"prob_2_200x180\")\n",
    "plt.ioff()\n",
    "print(\"Problem 2 part ii\")"
   ]
  },
  {
   "cell_type": "markdown",
   "metadata": {},
   "source": [
    "<video controls src=\"prob_2_200x180.mp4\" />"
   ]
  },
  {
   "cell_type": "markdown",
   "metadata": {},
   "source": [
    "# Problem 3\n",
    "\n",
    "Consider the initial boundary value problem\n",
    "$$\n",
    "\tu_{tt} = u_{xx}, \\\\\n",
    "\tu(0,t) = u(1,t) = 0, \\\\\n",
    "\tu(x,0) = 0.2e^{-m^2(x-1/2)^2}\\\\\n",
    "\tu_t(x,0) = 0.\n",
    "$$\n",
    "The initial condition separates into two smaller, slower-moving pulses, one travelling to the right and the other to the left.\n",
    "This solution models, for example, a plucked guitar string\n",
    "\n",
    "Numerically approximate the solution $u(x,t)$ for $t \\in \\left[0,2\\right]$.\n",
    "Set $m=20$.\n",
    "Use 200 subintervals in space and 440 in time, and animate your results.\n",
    "It is rather easy to see that the solution to this problem is the sum of two travelling waves, one travelling to the left and the other to the right, as described earlier."
   ]
  },
  {
   "cell_type": "code",
   "execution_count": 17,
   "metadata": {},
   "outputs": [
    {
     "name": "stdout",
     "output_type": "stream",
     "text": [
      "Problem 3\n"
     ]
    }
   ],
   "source": [
    "s = 1\n",
    "M = 440\n",
    "J = 200\n",
    "x0 = 0\n",
    "xf = 1\n",
    "t0 = 0\n",
    "tf = 2\n",
    "\n",
    "m = 20\n",
    "f = lambda x: .2 * np.exp(-1 * m**2 * (x - 1/2) ** 2)\n",
    "g = lambda x: 0\n",
    "\n",
    "U = solve(s, M, J, t0, tf, x0, xf, f, g)\n",
    "plot_Us(np.linspace(x0, xf, J+1), U, \"prob_3\")\n",
    "plt.ioff()\n",
    "print(\"Problem 3\")"
   ]
  },
  {
   "cell_type": "markdown",
   "metadata": {},
   "source": [
    "<video controls src=\"prob_3.mp4\" />"
   ]
  },
  {
   "cell_type": "markdown",
   "metadata": {},
   "source": [
    "# Problem 4\n",
    "\n",
    "Consider the initial boundary value problem\n",
    "\n",
    "$$\n",
    "\tu_{tt} = u_{xx}, \\\\\n",
    "\tu(0,t) = u(1,t) = 0, \\\\\n",
    "\tu(x,0) = \\begin{cases} 1/3 & \\text{if } 5/11 < x < 6/11,\\\\\n",
    "\t0 & \\text{otherwise}\n",
    "\t\\end{cases}\\\\\n",
    "\tu_t(x,0) = 0.\n",
    "$$\n",
    "\n",
    "Numerically approximate the solution $u(x,t)$ for $t \\in \\left[0, 2\\right]$.\n",
    "Use 200 subintervals in space and 440 in time, and animate your results.\n",
    "Even though the method is second order and stable for this discretization, since the initial condition is discontinuous there are large dispersive errors."
   ]
  },
  {
   "cell_type": "code",
   "execution_count": 18,
   "metadata": {},
   "outputs": [
    {
     "name": "stdout",
     "output_type": "stream",
     "text": [
      "Problem 4\n"
     ]
    }
   ],
   "source": [
    "s = 1\n",
    "M = 440\n",
    "J = 200\n",
    "x0 = 0\n",
    "xf = 1\n",
    "t0 = 0\n",
    "tf = 2\n",
    "\n",
    "m = 20\n",
    "f = lambda x: np.piecewise(x, [x > 5/11,\n",
    "                               x < 6/11, \n",
    "                               x <= 5/11,\n",
    "                               x >=6/11], \n",
    "                              [1/3, 1/3, 0, 0])\n",
    "g = lambda x: 0\n",
    "\n",
    "U = solve(s, M, J, t0, tf, x0, xf, f, g)\n",
    "plot_Us(np.linspace(x0, xf, J+1), U, \"prob_4\")\n",
    "plt.ioff()\n",
    "print(\"Problem 4\")"
   ]
  },
  {
   "cell_type": "markdown",
   "metadata": {},
   "source": [
    "<video controls src=\"prob_4.mp4\" />"
   ]
  },
  {
   "cell_type": "markdown",
   "metadata": {},
   "source": [
    "# Problem 5\n",
    "\n",
    "\n",
    "Numerically solve the initial value problem\n",
    "\n",
    "$$\n",
    "\tu_t -su_x + uu_x = u_{xx}, \\quad x \\in (-\\infty,\\infty),\\\\\n",
    "\tu(x,0) = v(x),\n",
    "$$\n",
    "\n",
    "for $t \\in [0,1]$.\n",
    "Let the perturbation $v(x)$ be given by\n",
    "\n",
    "$$\n",
    "v(x) = 3.5(\\sin{(3x)} + 1)\\frac{1}{\\sqrt{2\\pi}} \\exp{(-x^2/2)}\n",
    "$$\n",
    "\n",
    "And let the initial condition be $u(x, 0) = \\hat{u}(x) + v(x)$\n",
    "Approximate the $x$ domain,$(-\\infty, \\infty)$, numerically by the finite interval $[-20,20]$, and fix $u(-20) = u_-$, $u(20) = u_+$. Let $u_- = 5$, $u_+ = 1$.\n",
    "Use 150 intervals in space and 350 steps in time.\n",
    "Animate your results.\n",
    "You should see the solution converge to a translate of the travelling wave $\\hat{u}$.\n",
    "\n",
    "Hint: This difference scheme is no longer a linear equation.\n",
    "We have a nonlinear equation in $U^{n+1}$.\n",
    "We can still solve this function using Newton's method or some other similar solver.\n",
    "In this case, use `scipy.optimize.fsolve`."
   ]
  },
  {
   "cell_type": "code",
   "execution_count": 28,
   "metadata": {},
   "outputs": [
    {
     "name": "stdout",
     "output_type": "stream",
     "text": [
      "0.13616768797332432\n"
     ]
    }
   ],
   "source": [
    "s = 1\n",
    "M = 350\n",
    "J = 150\n",
    "x0 = -20\n",
    "xf = 20\n",
    "t0 = 0\n",
    "tf = 2\n",
    "\n",
    "u_minus = 5\n",
    "u_plus = 1\n",
    "\n",
    "v = lambda x: 3.5 * (np.sin(3*x) + 1) * 1 / (np.sqrt(2 * np.pi)) * np.exp(-1 * x**2 /2)\n",
    "\n",
    "optimized = opt.fsolve(ut - sux + uux = uxx, u(x,0) = v(x), s, M, J, x0, xf, t0, tf)"
   ]
  },
  {
   "cell_type": "code",
   "execution_count": null,
   "metadata": {},
   "outputs": [],
   "source": []
  }
 ],
 "metadata": {
  "kernelspec": {
   "display_name": "Python 3",
   "language": "python",
   "name": "python3"
  },
  "language_info": {
   "codemirror_mode": {
    "name": "ipython",
    "version": 3
   },
   "file_extension": ".py",
   "mimetype": "text/x-python",
   "name": "python",
   "nbconvert_exporter": "python",
   "pygments_lexer": "ipython3",
   "version": "3.8.8"
  }
 },
 "nbformat": 4,
 "nbformat_minor": 4
}
