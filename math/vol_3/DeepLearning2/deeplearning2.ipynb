{
  "cells": [
    {
      "cell_type": "code",
      "execution_count": 75,
      "metadata": {
        "id": "_HaCF0y2YpwU"
      },
      "outputs": [],
      "source": [
        "from music21 import converter, instrument, note, chord, stream, midi\n",
        "from google.colab import files\n",
        "import glob\n",
        "import os\n",
        "import gzip\n",
        "import tarfile    \n",
        "from torchvision import datasets                  \n",
        "import numpy as np\n",
        "import torch\n",
        "import torch.nn as nn\n",
        "import torch.optim\n",
        "from torch.utils.data import DataLoader, random_split\n",
        "import matplotlib.pyplot as plt\n",
        "from sklearn.model_selection import train_test_split\n",
        "from tqdm import tqdm\n",
        "\n",
        "assert torch.cuda.is_available()"
      ]
    },
    {
      "cell_type": "code",
      "execution_count": 2,
      "metadata": {
        "colab": {
          "base_uri": "https://localhost:8080/"
        },
        "id": "MQLLgkzrYviL",
        "outputId": "93717fab-0b3f-45e0-d841-c9499fb5eb9a"
      },
      "outputs": [
        {
          "output_type": "stream",
          "name": "stdout",
          "text": [
            "Mounted at /content/drive\n"
          ]
        }
      ],
      "source": [
        "# Import Drive for easier saving\n",
        "from google.colab import drive\n",
        "drive.mount('/content/drive')"
      ]
    },
    {
      "cell_type": "code",
      "execution_count": 3,
      "metadata": {
        "id": "rCbORzBiYy6f"
      },
      "outputs": [],
      "source": [
        "def download_data(filepath):\n",
        "    if not os.path.exists(os.path.join(filepath, 'mozart_sonatas.tar.gz')):\n",
        "      datasets.utils.download_url('https://github.com/Foundations-of-Applied-Mathematics/Data/raw/master/RNN/mozart_sonatas.tar.gz', filepath, 'mozart_sonatas.tar.gz', None)\n",
        "\n",
        "    print('Extracting {}'.format('mozart_sonatas.tar.gz'))\n",
        "    gzip_path = os.path.join(filepath, 'mozart_sonatas.tar.gz')\n",
        "    with open(gzip_path.replace('.gz', ''), 'wb') as out_f, gzip.GzipFile(gzip_path) as zip_f:\n",
        "      out_f.write(zip_f.read())\n",
        "\n",
        "    print('Untarring {}'.format('mozart_sonatas.tar'))\n",
        "    tar_path = os.path.join(filepath,'mozart_sonatas.tar')\n",
        "    z = tarfile.TarFile(tar_path)\n",
        "    z.extractall(tar_path.replace('.tar', ''))\n",
        "\n",
        "# download_data('drive/MyDrive/Colab')"
      ]
    },
    {
      "cell_type": "markdown",
      "metadata": {
        "id": "m7WTL6LYY0uP"
      },
      "source": [
        "**Problem 1**:\n",
        "\n",
        "Download the data.\n",
        "Write a function that accepts the path to the .mid files, parses the files, and returns a list of the $119348$ pitches as strings. \n",
        "For the Chords, join the pitches of the notes in the chords with a . as in D3.D2.\n",
        "\n",
        "Print the length of your list and the number of unique pitches.\n"
      ]
    },
    {
      "cell_type": "code",
      "execution_count": 4,
      "metadata": {
        "colab": {
          "base_uri": "https://localhost:8080/",
          "height": 797
        },
        "id": "hEpK4GIyZCWg",
        "outputId": "27ba9c82-c42f-4b9b-e88e-af90bd44f2ef"
      },
      "outputs": [
        {
          "output_type": "stream",
          "name": "stdout",
          "text": [
            "piano_sonata_279.mid\n",
            "piano_sonata_280.mid\n",
            "piano_sonata_282.mid\n",
            "piano_sonata_281.mid\n",
            "piano_sonata_283.mid\n",
            "piano_sonata_284.mid\n",
            "piano_sonata_309.mid\n",
            "piano_sonata_311.mid\n",
            "piano_sonata_331.mid\n",
            "piano_sonata_330.mid\n",
            "piano_sonata_310.mid\n",
            "piano_sonata_400.mid\n",
            "piano_sonata_457.mid\n",
            "piano_sonata_333.mid\n",
            "piano_sonata_593.mid\n",
            "piano_sonata_545.mid\n",
            "piano_sonata_576.mid\n",
            "piano_sonata_332.mid\n",
            "piano_sonata_547.mid\n",
            "piano_sonata_570.mid\n",
            "5_epochs\n"
          ]
        },
        {
          "output_type": "error",
          "ename": "ConverterFileException",
          "evalue": "ignored",
          "traceback": [
            "\u001b[0;31m---------------------------------------------------------------------------\u001b[0m",
            "\u001b[0;31mConverterFileException\u001b[0m                    Traceback (most recent call last)",
            "\u001b[0;32m<ipython-input-4-a9957d7e43b6>\u001b[0m in \u001b[0;36m<module>\u001b[0;34m()\u001b[0m\n\u001b[1;32m      5\u001b[0m \u001b[0;32mfor\u001b[0m \u001b[0mfile\u001b[0m \u001b[0;32min\u001b[0m \u001b[0mos\u001b[0m\u001b[0;34m.\u001b[0m\u001b[0mlistdir\u001b[0m\u001b[0;34m(\u001b[0m\u001b[0;34m)\u001b[0m\u001b[0;34m:\u001b[0m\u001b[0;34m\u001b[0m\u001b[0;34m\u001b[0m\u001b[0m\n\u001b[1;32m      6\u001b[0m   \u001b[0mprint\u001b[0m\u001b[0;34m(\u001b[0m\u001b[0mfile\u001b[0m\u001b[0;34m)\u001b[0m\u001b[0;34m\u001b[0m\u001b[0;34m\u001b[0m\u001b[0m\n\u001b[0;32m----> 7\u001b[0;31m   \u001b[0mmidi\u001b[0m \u001b[0;34m=\u001b[0m \u001b[0mconverter\u001b[0m\u001b[0;34m.\u001b[0m\u001b[0mparse\u001b[0m\u001b[0;34m(\u001b[0m\u001b[0mfile\u001b[0m\u001b[0;34m)\u001b[0m\u001b[0;34m\u001b[0m\u001b[0;34m\u001b[0m\u001b[0m\n\u001b[0m\u001b[1;32m      8\u001b[0m   \u001b[0mnotes_to_parse\u001b[0m \u001b[0;34m=\u001b[0m \u001b[0minstrument\u001b[0m\u001b[0;34m.\u001b[0m\u001b[0mpartitionByInstrument\u001b[0m\u001b[0;34m(\u001b[0m\u001b[0mmidi\u001b[0m\u001b[0;34m)\u001b[0m\u001b[0;34m.\u001b[0m\u001b[0mparts\u001b[0m\u001b[0;34m[\u001b[0m\u001b[0;36m0\u001b[0m\u001b[0;34m]\u001b[0m\u001b[0;34m.\u001b[0m\u001b[0mrecurse\u001b[0m\u001b[0;34m(\u001b[0m\u001b[0;34m)\u001b[0m\u001b[0;34m\u001b[0m\u001b[0;34m\u001b[0m\u001b[0m\n\u001b[1;32m      9\u001b[0m \u001b[0;34m\u001b[0m\u001b[0m\n",
            "\u001b[0;32m/usr/local/lib/python3.7/dist-packages/music21/converter/__init__.py\u001b[0m in \u001b[0;36mparse\u001b[0;34m(value, *args, **keywords)\u001b[0m\n\u001b[1;32m   1125\u001b[0m     \u001b[0;32melif\u001b[0m \u001b[0;32mnot\u001b[0m \u001b[0misinstance\u001b[0m\u001b[0;34m(\u001b[0m\u001b[0mvalue\u001b[0m\u001b[0;34m,\u001b[0m \u001b[0mbytes\u001b[0m\u001b[0;34m)\u001b[0m \u001b[0;32mand\u001b[0m \u001b[0mos\u001b[0m\u001b[0;34m.\u001b[0m\u001b[0mpath\u001b[0m\u001b[0;34m.\u001b[0m\u001b[0mexists\u001b[0m\u001b[0;34m(\u001b[0m\u001b[0mvalueStr\u001b[0m\u001b[0;34m)\u001b[0m\u001b[0;34m:\u001b[0m\u001b[0;34m\u001b[0m\u001b[0;34m\u001b[0m\u001b[0m\n\u001b[1;32m   1126\u001b[0m         return parseFile(valueStr, number=number, format=m21Format,\n\u001b[0;32m-> 1127\u001b[0;31m                          forceSource=forceSource, **keywords)\n\u001b[0m\u001b[1;32m   1128\u001b[0m     \u001b[0;32melif\u001b[0m \u001b[0;32mnot\u001b[0m \u001b[0misinstance\u001b[0m\u001b[0;34m(\u001b[0m\u001b[0mvalue\u001b[0m\u001b[0;34m,\u001b[0m \u001b[0mbytes\u001b[0m\u001b[0;34m)\u001b[0m \u001b[0;32mand\u001b[0m \u001b[0mos\u001b[0m\u001b[0;34m.\u001b[0m\u001b[0mpath\u001b[0m\u001b[0;34m.\u001b[0m\u001b[0mexists\u001b[0m\u001b[0;34m(\u001b[0m\u001b[0mcommon\u001b[0m\u001b[0;34m.\u001b[0m\u001b[0mcleanpath\u001b[0m\u001b[0;34m(\u001b[0m\u001b[0mvalueStr\u001b[0m\u001b[0;34m)\u001b[0m\u001b[0;34m)\u001b[0m\u001b[0;34m:\u001b[0m\u001b[0;34m\u001b[0m\u001b[0;34m\u001b[0m\u001b[0m\n\u001b[1;32m   1129\u001b[0m         return parseFile(common.cleanpath(valueStr), number=number, format=m21Format,\n",
            "\u001b[0;32m/usr/local/lib/python3.7/dist-packages/music21/converter/__init__.py\u001b[0m in \u001b[0;36mparseFile\u001b[0;34m(fp, number, format, forceSource, **keywords)\u001b[0m\n\u001b[1;32m   1005\u001b[0m     \u001b[0mv\u001b[0m \u001b[0;34m=\u001b[0m \u001b[0mConverter\u001b[0m\u001b[0;34m(\u001b[0m\u001b[0;34m)\u001b[0m\u001b[0;34m\u001b[0m\u001b[0;34m\u001b[0m\u001b[0m\n\u001b[1;32m   1006\u001b[0m     \u001b[0mfp\u001b[0m \u001b[0;34m=\u001b[0m \u001b[0mcommon\u001b[0m\u001b[0;34m.\u001b[0m\u001b[0mcleanpath\u001b[0m\u001b[0;34m(\u001b[0m\u001b[0mfp\u001b[0m\u001b[0;34m,\u001b[0m \u001b[0mreturnPathlib\u001b[0m\u001b[0;34m=\u001b[0m\u001b[0;32mTrue\u001b[0m\u001b[0;34m)\u001b[0m\u001b[0;34m\u001b[0m\u001b[0;34m\u001b[0m\u001b[0m\n\u001b[0;32m-> 1007\u001b[0;31m     \u001b[0mv\u001b[0m\u001b[0;34m.\u001b[0m\u001b[0mparseFile\u001b[0m\u001b[0;34m(\u001b[0m\u001b[0mfp\u001b[0m\u001b[0;34m,\u001b[0m \u001b[0mnumber\u001b[0m\u001b[0;34m=\u001b[0m\u001b[0mnumber\u001b[0m\u001b[0;34m,\u001b[0m \u001b[0mformat\u001b[0m\u001b[0;34m=\u001b[0m\u001b[0mformat\u001b[0m\u001b[0;34m,\u001b[0m \u001b[0mforceSource\u001b[0m\u001b[0;34m=\u001b[0m\u001b[0mforceSource\u001b[0m\u001b[0;34m,\u001b[0m \u001b[0;34m**\u001b[0m\u001b[0mkeywords\u001b[0m\u001b[0;34m)\u001b[0m\u001b[0;34m\u001b[0m\u001b[0;34m\u001b[0m\u001b[0m\n\u001b[0m\u001b[1;32m   1008\u001b[0m     \u001b[0;32mreturn\u001b[0m \u001b[0mv\u001b[0m\u001b[0;34m.\u001b[0m\u001b[0mstream\u001b[0m\u001b[0;34m\u001b[0m\u001b[0;34m\u001b[0m\u001b[0m\n\u001b[1;32m   1009\u001b[0m \u001b[0;34m\u001b[0m\u001b[0m\n",
            "\u001b[0;32m/usr/local/lib/python3.7/dist-packages/music21/converter/__init__.py\u001b[0m in \u001b[0;36mparseFile\u001b[0;34m(self, fp, number, format, forceSource, storePickle, **keywords)\u001b[0m\n\u001b[1;32m    522\u001b[0m \u001b[0;34m\u001b[0m\u001b[0m\n\u001b[1;32m    523\u001b[0m         \u001b[0;32mif\u001b[0m \u001b[0museFormat\u001b[0m \u001b[0;32mis\u001b[0m \u001b[0;32mNone\u001b[0m\u001b[0;34m:\u001b[0m\u001b[0;34m\u001b[0m\u001b[0;34m\u001b[0m\u001b[0m\n\u001b[0;32m--> 524\u001b[0;31m             \u001b[0museFormat\u001b[0m \u001b[0;34m=\u001b[0m \u001b[0mself\u001b[0m\u001b[0;34m.\u001b[0m\u001b[0mgetFormatFromFileExtension\u001b[0m\u001b[0;34m(\u001b[0m\u001b[0mfp\u001b[0m\u001b[0;34m)\u001b[0m\u001b[0;34m\u001b[0m\u001b[0;34m\u001b[0m\u001b[0m\n\u001b[0m\u001b[1;32m    525\u001b[0m \u001b[0;34m\u001b[0m\u001b[0m\n\u001b[1;32m    526\u001b[0m         \u001b[0mpfObj\u001b[0m \u001b[0;34m=\u001b[0m \u001b[0mPickleFilter\u001b[0m\u001b[0;34m(\u001b[0m\u001b[0mfp\u001b[0m\u001b[0;34m,\u001b[0m \u001b[0mforceSource\u001b[0m\u001b[0;34m,\u001b[0m \u001b[0mnumber\u001b[0m\u001b[0;34m)\u001b[0m\u001b[0;34m\u001b[0m\u001b[0;34m\u001b[0m\u001b[0m\n",
            "\u001b[0;32m/usr/local/lib/python3.7/dist-packages/music21/converter/__init__.py\u001b[0m in \u001b[0;36mgetFormatFromFileExtension\u001b[0;34m(self, fp)\u001b[0m\n\u001b[1;32m    501\u001b[0m             \u001b[0museFormat\u001b[0m \u001b[0;34m=\u001b[0m \u001b[0mcommon\u001b[0m\u001b[0;34m.\u001b[0m\u001b[0mfindFormatFile\u001b[0m\u001b[0;34m(\u001b[0m\u001b[0mfp\u001b[0m\u001b[0;34m)\u001b[0m\u001b[0;34m\u001b[0m\u001b[0;34m\u001b[0m\u001b[0m\n\u001b[1;32m    502\u001b[0m             \u001b[0;32mif\u001b[0m \u001b[0museFormat\u001b[0m \u001b[0;32mis\u001b[0m \u001b[0;32mNone\u001b[0m\u001b[0;34m:\u001b[0m\u001b[0;34m\u001b[0m\u001b[0;34m\u001b[0m\u001b[0m\n\u001b[0;32m--> 503\u001b[0;31m                 \u001b[0;32mraise\u001b[0m \u001b[0mConverterFileException\u001b[0m\u001b[0;34m(\u001b[0m\u001b[0;34m'cannot find a format extensions for: %s'\u001b[0m \u001b[0;34m%\u001b[0m \u001b[0mfp\u001b[0m\u001b[0;34m)\u001b[0m\u001b[0;34m\u001b[0m\u001b[0;34m\u001b[0m\u001b[0m\n\u001b[0m\u001b[1;32m    504\u001b[0m         \u001b[0;32mreturn\u001b[0m \u001b[0museFormat\u001b[0m\u001b[0;34m\u001b[0m\u001b[0;34m\u001b[0m\u001b[0m\n\u001b[1;32m    505\u001b[0m \u001b[0;34m\u001b[0m\u001b[0m\n",
            "\u001b[0;31mConverterFileException\u001b[0m: cannot find a format extensions for: /content/drive/MyDrive/Colab/mozart_sonatas/mozart_sonatas/5_epochs"
          ]
        }
      ],
      "source": [
        "if os.getcwd() != \"content/drive/MyDrive/Colab/mozart_sonatas/mozart_sonatas/\":\n",
        "  os.chdir(\"/content/drive/MyDrive/Colab/mozart_sonatas/mozart_sonatas/\")\n",
        "\n",
        "pitches = []\n",
        "for file in os.listdir():\n",
        "  print(file)\n",
        "  midi = converter.parse(file)\n",
        "  notes_to_parse = instrument.partitionByInstrument(midi).parts[0].recurse()\n",
        "  \n",
        "  for element in notes_to_parse:\n",
        "    if isinstance(element, note.Note):\n",
        "      pitches.append(str(element.pitch))\n",
        "    elif isinstance(element, chord.Chord):\n",
        "      pitches.append(\".\".join([str(i) for i in element.pitches]))"
      ]
    },
    {
      "cell_type": "code",
      "source": [
        "print(pitches[100:105])\n",
        "print(\"Total number of pitches:\", len(pitches))\n",
        "print(\"Number of unique pitches:\", len(set(pitches)))"
      ],
      "metadata": {
        "colab": {
          "base_uri": "https://localhost:8080/"
        },
        "id": "9ef4sZ24-pDa",
        "outputId": "683567ba-faed-4a3f-9ae6-a246a9591766"
      },
      "execution_count": 88,
      "outputs": [
        {
          "output_type": "stream",
          "name": "stdout",
          "text": [
            "['B3', 'G4', 'D4', 'G4', 'B3']\n",
            "Total number of pitches: 119348\n",
            "Number of unique pitches: 741\n"
          ]
        }
      ]
    },
    {
      "cell_type": "markdown",
      "metadata": {
        "id": "3votXpqiZCtY"
      },
      "source": [
        "**Problem 2.** \n",
        "\n",
        "Using the list returned in Problem 1, create the training and testing DataLoaders.\n",
        "Make sure to do all of the following steps:\n",
        "\n",
        "\n",
        "1) Convert the pitches to integers.\n",
        "2) Split the data into Long tensors of length 100.\n",
        "3) Create the labels.\n",
        "4) Randomly split the data into training and test sets using an 80/20 split.\n",
        "5) Create the DataLoaders for both sets of data, using batch_size=128 for the training data and batch_size=1 for the test data.\n",
        " \n",
        "\n",
        "Print the length of each DataLoader.\n"
      ]
    },
    {
      "cell_type": "code",
      "execution_count": 89,
      "metadata": {
        "colab": {
          "base_uri": "https://localhost:8080/"
        },
        "id": "UghZuJfxZuzO",
        "outputId": "34b0f2e6-9e79-4aa1-b5a3-f6001829c12b"
      },
      "outputs": [
        {
          "output_type": "stream",
          "name": "stdout",
          "text": [
            "745 745\n"
          ]
        }
      ],
      "source": [
        "d = dict([(y,x) for x,y in enumerate(sorted(set(pitches)))])\n",
        "pitches_to_ints = [d[x] for x in pitches]\n",
        "pitches_to_ints[:10]\n",
        "\n",
        "X = [torch.LongTensor(pitches_to_ints[i:i+99]) for i in range(len(pitches_to_ints) - 100)]\n",
        "y = [pitches_to_ints[i+100] for i in range(len(pitches_to_ints) - 100)]\n",
        "\n",
        "X_train, X_test, y_train, y_test = train_test_split(\n",
        "                                          X, y, test_size=0.2, random_state=42)\n",
        "train_loader = DataLoader([[X,y] for X, y in zip(X_train, y_train)],\n",
        "                          batch_size=128,\n",
        "                          drop_last=True)\n",
        "test_loader = DataLoader([[X,y] for X, y in zip(X_test, y_test)],\n",
        "                         batch_size=32,\n",
        "                         drop_last=True)\n",
        "\n",
        "print(len(train_loader), len(test_loader))"
      ]
    },
    {
      "cell_type": "markdown",
      "metadata": {
        "id": "mOtS86Rbi0P_"
      },
      "source": [
        "**Problem 3**\n",
        "\n",
        "Create the network class.\n",
        "Include at least $3$ LSTM layers, each followed by Dropout layers with probability $.3.$\n",
        "Also have at least $2$ Linear layers.\n",
        "The last LSTM layer and each of the Linear layers should be followed by a BatchNorm1d layer, for at least $3$ total batchnorm layers.\n",
        "The final layer should be a Softmax activation.\n",
        "\n",
        "Initialize the model, loss as CrossEntropyLoss, and optimizer as RMSprop.\n",
        "\n",
        "Train the model until the accuracy is above 95\\%. This can take?\n",
        "\n",
        "\n",
        "\n",
        "After taking a backwards step during training, scale the gradients using \n",
        "nn.utils.clip_grad_norm_(model.parameters(), 5)\n",
        "This will ensure that the gradients are reasonably sized so that the model can learn.\n",
        "\n",
        "At the end of each epoch, calculate the accuracy and mean loss on the test data.\n",
        "Remember to change the model to eval() mode when running the test data and train() when running on the training data.\n",
        "\n",
        "After the accuracy is above 95\\%, plot the training and test losses versus epochs on the same plot.\n",
        "Plot the accuracy versus epochs.\n"
      ]
    },
    {
      "cell_type": "code",
      "execution_count": 90,
      "metadata": {
        "id": "jMhH1W7ciwzB"
      },
      "outputs": [],
      "source": [
        "device = torch.device(\"cuda:0\" if torch.cuda.is_available() else \"cpu\")\n",
        "class RNN(nn.Module):\n",
        "  '''\n",
        "  Recurrent Neural Network Class\n",
        "  '''\n",
        "  def __init__(self, n_notes, embedding_dim):\n",
        "    super(RNN, self).__init__()\n",
        "    # initialize layers\n",
        "    self.hidden_size = 512\n",
        "    self.num_layers = 3\n",
        "    self.dropout = 0.3\n",
        "    self.n_notes = n_notes\n",
        "    self.embedding = nn.Embedding(n_notes,embedding_dim)\n",
        "\n",
        "    self.lstm = nn.LSTM(embedding_dim, self.hidden_size, self.num_layers, batch_first=True, dropout=.3)\n",
        "    self.batch1 = nn.BatchNorm1d(self.hidden_size)\n",
        "    self.batch2 = nn.BatchNorm1d(64)\n",
        "    self.dropout = nn.Dropout(.3)\n",
        "    self.linear1 = nn.Linear(self.hidden_size, 64)\n",
        "    self.linear2 = nn.Linear(64, self.n_notes)\n",
        "    self.softmax = nn.LogSoftmax(dim=1)\n",
        "\n",
        "  def forward(self, x, hidden):\n",
        "    # forward pass\n",
        "    embeds = self.embedding(x)\n",
        "    lstm_out, hidden = self.lstm(embeds, hidden)\n",
        "    out = self.dropout(self.batch1(lstm_out[:,-1])) \n",
        "    out = self.batch2(self.linear1(out))\n",
        "    return self.softmax(self.linear2(out)), hidden\n",
        "\n",
        "  def initHidden(self, batch_size):\n",
        "    # initialize the hidden layers\n",
        "    weight = next(self.parameters()).data\n",
        "    h0 = weight.new(self.num_layers, batch_size, self.hidden_size).zero_().to(device)\n",
        "    h1 = weight.new(self.num_layers, batch_size, self.hidden_size).zero_().to(device)\n",
        "    return (h0, h1)\n"
      ]
    },
    {
      "cell_type": "code",
      "source": [
        "model = RNN(741, 32)\n",
        "model = model.to(device)\n",
        "model.train()\n",
        "optimizer = torch.optim.RMSprop(model.parameters(),lr=.001)\n",
        "objective = nn.CrossEntropyLoss()"
      ],
      "metadata": {
        "id": "L7ioy8C7bGuU"
      },
      "execution_count": 91,
      "outputs": []
    },
    {
      "cell_type": "code",
      "source": [
        "n_epochs = 30\n",
        "total_losses = []\n",
        "accuracies = []\n",
        "\n",
        "for i in range(n_epochs):\n",
        "  loop = tqdm(total=len(train_loader), position=0)\n",
        "  loop.update()\n",
        "  total_loss = 0\n",
        "  for batch, (x, y_truth) in enumerate(train_loader):\n",
        "    optimizer.zero_grad() # Zero out the the gradients\n",
        "\n",
        "    x, y_truth = x.to(device), y_truth.to(device)\n",
        "    (h0, h1) = model.initHidden(128)\n",
        "    # pass data through the model\n",
        "    y_hat, (h0, h1) = model(x, (h0,h1))\n",
        "    h0 = h0.detach()\n",
        "    h1 = h1.detach()\n",
        "\n",
        "    loss = objective(y_hat, y_truth) # Calculate loss\n",
        "    loss.backward() # Compute gradients\n",
        "    optimizer.step()\n",
        "    nn.utils.clip_grad_norm_(model.parameters(), 5)\n",
        "\n",
        "    loop.set_description('loss:{:.4f}'.format(loss.item()))\n",
        "    total_loss += loss.item()\n",
        "    loop.update()\n",
        "\n",
        "  # At the end of each epoch,\n",
        "  # Calculate the man loss of the training data for that epoch\n",
        "  total_losses.append(total_loss / len(train_loader))\n",
        "  # Then calculate the accuracy of the model on the validation data\n",
        "  model.eval()\n",
        "  accuracy = 0\n",
        "  for batch, (x, y_truth) in enumerate(test_loader):\n",
        "    x, y_truth = x.to(device), y_truth.to(device)\n",
        "    (h0, h1) = model.initHidden(32)\n",
        "    y_hat, (h0, h1) = model(x, (h0,h1))\n",
        "    pred = torch.argmax(y_hat, dim=1)\n",
        "    h0 = h0.detach()\n",
        "    h1 = h1.detach()\n",
        "    accuracy += sum((y_truth == pred))\n",
        "  accuracies.append(accuracy / (32*len(test_loader)))\n",
        "  model.train()\n",
        "  filepath = str(i) + \"_epochs\"\n",
        "  torch.save({\n",
        "    'epoch': i,\n",
        "    'model_state_dict': model.state_dict(),\n",
        "    'optimizer_state_dict': optimizer.state_dict(),\n",
        "    'loss': loss,}, filepath)\n",
        "\n",
        "fig, axs = plt.subplots(1, 2, figsize=(10, 5))\n",
        "axs[0].plot(total_losses)\n",
        "axs[0].set_title(\"Loss\")\n",
        "axs[1].plot([i.item() for i in accuracies])\n",
        "axs[1].set_title(\"Accuracy\")\n",
        "plt.show()"
      ],
      "metadata": {
        "colab": {
          "base_uri": "https://localhost:8080/",
          "height": 873
        },
        "id": "Cex1PDGxZzDz",
        "outputId": "148ce7f2-74bf-4483-dbb3-09e35c9295a6"
      },
      "execution_count": 93,
      "outputs": [
        {
          "output_type": "stream",
          "name": "stderr",
          "text": [
            "loss:3.9704: 100%|██████████| 745/745 [01:45<00:00,  7.05it/s]\n",
            "loss:3.5700: : 746it [01:57,  6.34it/s]\n",
            "loss:3.3412: : 746it [01:57,  6.35it/s]\n",
            "loss:3.2753: : 746it [01:57,  6.34it/s]\n",
            "loss:3.1150: : 746it [01:57,  6.34it/s]\n",
            "loss:2.9743: : 746it [01:57,  6.34it/s]\n",
            "loss:2.7726: : 746it [01:58,  6.30it/s]\n",
            "loss:2.7174: : 746it [01:57,  6.34it/s]\n",
            "loss:2.4310: : 746it [01:57,  6.34it/s]\n",
            "loss:2.3710: : 746it [01:57,  6.34it/s]\n",
            "loss:2.0723: : 746it [01:57,  6.34it/s]\n",
            "loss:1.9005: : 746it [01:57,  6.34it/s]\n",
            "loss:1.7159: : 746it [01:57,  6.34it/s]\n",
            "loss:1.7149: : 746it [01:57,  6.34it/s]\n",
            "loss:1.5026: : 746it [01:57,  6.34it/s]\n",
            "loss:1.4843: : 746it [01:57,  6.35it/s]\n",
            "loss:1.2951: : 746it [01:57,  6.34it/s]\n",
            "loss:1.3305: : 746it [01:57,  6.34it/s]\n",
            "loss:1.2281: : 746it [01:57,  6.34it/s]\n",
            "loss:1.2339: : 746it [01:57,  6.33it/s]\n",
            "loss:1.0689: : 746it [01:57,  6.33it/s]\n",
            "loss:0.9327: : 746it [01:57,  6.34it/s]\n",
            "loss:0.9996: : 746it [01:57,  6.33it/s]\n",
            "loss:0.8292: : 746it [01:57,  6.33it/s]\n",
            "loss:1.0058: : 746it [01:57,  6.33it/s]\n",
            "loss:0.9527: : 746it [01:57,  6.34it/s]\n",
            "loss:0.9669: : 746it [01:57,  6.33it/s]\n",
            "loss:1.0110: : 746it [01:57,  6.34it/s]\n",
            "loss:0.8026: : 746it [01:57,  6.34it/s]\n",
            "loss:0.9068: : 746it [01:57,  6.34it/s]\n",
            "loss:0.8436: : 746it [01:45,  7.06it/s]                       "
          ]
        },
        {
          "output_type": "display_data",
          "data": {
            "text/plain": [
              "<Figure size 720x360 with 2 Axes>"
            ],
            "image/png": "[encoded data removed]"
          },
          "metadata": {
            "image/png": {
              "width": 598,
              "height": 318
            },
            "needs_background": "light"
          }
        }
      ]
    },
    {
      "cell_type": "markdown",
      "metadata": {
        "id": "sZilPcMCmOED"
      },
      "source": [
        "**Problem 4.** \n",
        "Write a function that randomly chooses a sequence in the test data and predicts\n",
        "the next 500 elements. \n",
        "Return a list of the 600 pitches in the sequence."
      ]
    },
    {
      "cell_type": "code",
      "execution_count": null,
      "metadata": {
        "id": "3HciNV-gnLOA"
      },
      "outputs": [],
      "source": [
        "def load_model(filename):\n",
        "  \"\"\" Load a saved model to continue training or evaluate \"\"\"\n",
        "  device = torch.device(\"cuda:0\" if torch.cuda.is_available() else \"cpu\")\n",
        "\n",
        "  model = RNN(741, 32)\n",
        "  model = model.to(device)\n",
        "  criterion = nn.CrossEntropyLoss()\n",
        "  optimizer = torch.optim.RMSprop(model.parameters(),lr=.001)\n",
        "\n",
        "  checkpoint = torch.load(filename,map_location=torch.device('cpu'))\n",
        "  model.load_state_dict(checkpoint['model_state_dict'])\n",
        "  optimizer.load_state_dict(checkpoint['optimizer_state_dict'])\n",
        "  last_epoch = checkpoint['epoch']\n",
        "  loss = checkpoint['loss']\n",
        "  model.eval() # For evaluation only\n",
        "  \n",
        "  return model, criterion, optimizer"
      ]
    },
    {
      "cell_type": "code",
      "execution_count": null,
      "metadata": {
        "id": "j9ojTRQQuUe7"
      },
      "outputs": [],
      "source": [
        ""
      ]
    },
    {
      "cell_type": "code",
      "source": [
        "# model, criterion, optimizer = load_model(\"29_epochs\")\n",
        "model.eval()\n",
        "model = model.to(device)\n",
        "rand_loader = DataLoader([[X,y] for X, y in zip(X_test, y_test)],\n",
        "                         batch_size=1,\n",
        "                         drop_last=True,\n",
        "                         shuffle=True)\n",
        "\n",
        "for batch, (x, y_truth) in enumerate(rand_loader):\n",
        "    x, y_truth = x.to(device), y_truth.to(device)\n",
        "    break\n",
        "for i in range(500):\n",
        "  (h0, h1) = model.initHidden(1)\n",
        "  y_hat, (h0, h1) = model(x[:, i:i+99], (h0,h1))\n",
        "  pred = torch.argmax(y_hat)\n",
        "  h0 = h0.detach()\n",
        "  h1 = h1.detach()\n",
        "  pred = pred.view(1, 1)\n",
        "  x = torch.cat((x.T, pred)).T"
      ],
      "metadata": {
        "id": "M_E_jU6az_56"
      },
      "execution_count": 94,
      "outputs": []
    },
    {
      "cell_type": "markdown",
      "metadata": {
        "id": "-syHIeZ4nLhh"
      },
      "source": [
        "**Problem 5.** \n",
        "Convert the sequence from Problem 4 into note and chord objects and save it to\n",
        "'mozart.mid'."
      ]
    },
    {
      "cell_type": "code",
      "execution_count": 95,
      "metadata": {
        "id": "BTySviQ0uUe8"
      },
      "outputs": [],
      "source": [
        "chord_pitches = [list(d.keys())[list(d.values()).index(i)] for i in x.T]"
      ]
    },
    {
      "cell_type": "code",
      "source": [
        "output_notes = []\n",
        "for i, pitch in enumerate(chord_pitches):\n",
        "  o = np.random.choice([0, .25, .5], p=[1999/3673, 1167/3673, 507/3673])\n",
        "  # If it's a note\n",
        "  if \".\" not in pitch:\n",
        "    new_note = note.Note(pitch)\n",
        "    new_note.storedInstrument = instrument.Piano()\n",
        "    new_note.offset = (o + i) / 3\n",
        "    output_notes.append(new_note)\n",
        "  # If it's a pitch\n",
        "  else:\n",
        "    temp = []\n",
        "    for n in pitch.split(\".\"):\n",
        "      new_note = note.Note(n)\n",
        "      new_note.storedInstrument = instrument.Piano()\n",
        "      temp.append(new_note)\n",
        "    new_chord = chord.Chord(temp)\n",
        "    new_chord.offset = (o + i) / 3\n",
        "    output_notes.append(new_chord)"
      ],
      "metadata": {
        "id": "HQ5LRiIjCtNy"
      },
      "execution_count": 98,
      "outputs": []
    },
    {
      "cell_type": "code",
      "source": [
        "midi_stream = stream.Stream(output_notes)\n",
        "midi_stream.write('midi', fp=\"mozart.mid\")"
      ],
      "metadata": {
        "colab": {
          "base_uri": "https://localhost:8080/",
          "height": 35
        },
        "id": "Kt0ZYbp_9YRA",
        "outputId": "d39bd8a4-48cb-4f5c-fac3-a5929bd5f5f0"
      },
      "execution_count": 99,
      "outputs": [
        {
          "output_type": "execute_result",
          "data": {
            "text/plain": [
              "'mozart.mid'"
            ],
            "application/vnd.google.colaboratory.intrinsic+json": {
              "type": "string"
            }
          },
          "metadata": {},
          "execution_count": 99
        }
      ]
    },
    {
      "cell_type": "code",
      "source": [
        ""
      ],
      "metadata": {
        "id": "8J0Ekc3bB_Kh"
      },
      "execution_count": null,
      "outputs": []
    }
  ],
  "metadata": {
    "colab": {
      "collapsed_sections": [],
      "name": "deeplearning2.ipynb",
      "provenance": []
    },
    "kernelspec": {
      "display_name": "Python 3",
      "language": "python",
      "name": "python3"
    },
    "language_info": {
      "codemirror_mode": {
        "name": "ipython",
        "version": 3
      },
      "file_extension": ".py",
      "mimetype": "text/x-python",
      "name": "python",
      "nbconvert_exporter": "python",
      "pygments_lexer": "ipython3",
      "version": "3.8.5"
    },
    "accelerator": "GPU"
  },
  "nbformat": 4,
  "nbformat_minor": 0
}