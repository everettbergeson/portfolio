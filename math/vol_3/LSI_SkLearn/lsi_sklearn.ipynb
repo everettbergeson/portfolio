{
 "cells": [
  {
   "cell_type": "markdown",
   "metadata": {},
   "source": [
    "# Finding Patterns in Data\n",
    "## LSI and Scikit-Learn\n",
    "\n",
    "$$\\begin{align}\n",
    "\t\\begin{split}\n",
    "        \\sum \\nu \\Sigma \\Re \\epsilon \\tau \\tau \\\\\n",
    "        \\beta E \\mathbb{R} G \\epsilon \\S \\theta \\aleph\n",
    "\t\\end{split}\n",
    "\\end{align}$$"
   ]
  },
  {
   "cell_type": "code",
   "execution_count": 1,
   "metadata": {},
   "outputs": [],
   "source": [
    "import os\n",
    "import string\n",
    "import numpy as np\n",
    "from math import log\n",
    "from scipy import sparse\n",
    "from sklearn import datasets\n",
    "from scipy import linalg as la\n",
    "from collections import Counter\n",
    "from matplotlib import pyplot as plt\n",
    "from scipy.sparse import linalg as spla\n",
    "from sklearn.pipeline import Pipeline\n",
    "from sklearn.decomposition import PCA\n",
    "from sklearn.model_selection import GridSearchCV\n",
    "from sklearn.ensemble import RandomForestClassifier\n",
    "from sklearn.neighbors import KNeighborsClassifier\n",
    "from sklearn.preprocessing import StandardScaler\n",
    "from sklearn.model_selection import train_test_split\n",
    "from sklearn.metrics import classification_report\n",
    "from sklearn.metrics import confusion_matrix"
   ]
  },
  {
   "cell_type": "markdown",
   "metadata": {},
   "source": [
    "## Problem 1\n",
    "- Perform PCA on the breast cancer dataset\n",
    "- Graph the first two principal components\n",
    "- Calculate the variance captured by the first two principal components"
   ]
  },
  {
   "cell_type": "code",
   "execution_count": 30,
   "metadata": {},
   "outputs": [
    {
     "data": {
      "image/png": "[encoded data removed]",
      "text/plain": [
       "<Figure size 432x288 with 1 Axes>"
      ]
     },
     "metadata": {
      "needs_background": "light"
     },
     "output_type": "display_data"
    }
   ],
   "source": [
    "################################################################################\n",
    "def my_pca(Y, num_components=2):\n",
    "    Y -= np.mean(Y, axis=0)\n",
    "    \n",
    "    # 2. Compute truncated SVD\n",
    "    U, s, VT = la.svd(Y, full_matrices=False)\n",
    "    \n",
    "    # 3. Compute Y hat\n",
    "    return Y @ VT.T[:,:num_components]\n",
    "\n",
    "def prob1():\n",
    "    \"\"\"Recreate the plot in Figure 1 by performing \n",
    "    PCA on the breast cancer dataset.\n",
    "    Include in the graph title the amount of variance\n",
    "    captured by the first two principal components.\"\"\"\n",
    "    cancer = datasets.load_breast_cancer()\n",
    "    X = cancer.data\n",
    "    y = cancer.target # Class labels (0 or 1)\n",
    "    \n",
    "    \n",
    "    # Write a function that performs PCA on the breast cancer dataset. Graph the \n",
    "    # first two principal components, with the first along the x-axis.\n",
    "    Y_hat = my_pca(X)\n",
    "    \n",
    "#     pca = PCA(n_components=2) # Create the PCA transformer with hyperparameters\n",
    "#     Xhat = pca.fit_transform(X)\n",
    "\n",
    "    mali_x = []\n",
    "    mali_y = []\n",
    "    beni_x = []\n",
    "    beni_y = []\n",
    "    for i in range(len(y)):\n",
    "        if y[i] == 1:\n",
    "            beni_x.append(Y_hat[i,0])\n",
    "            beni_y.append(Y_hat[i,1])\n",
    "        else:\n",
    "            mali_x.append(Y_hat[i,0])\n",
    "            mali_y.append(Y_hat[i,1])\n",
    "    plt.scatter(beni_x, beni_y, color='green',\n",
    "                alpha=.3, label='Benign')\n",
    "    plt.scatter(mali_x, mali_y, color='tab:red',\n",
    "                alpha=.3, label='Malignant')\n",
    "    plt.legend()\n",
    "    plt.xlabel(\"First Principal Component\")\n",
    "    plt.ylabel(\"Second Principal Component\")\n",
    "    plt.title(\"Breast Cancer Principal Component Analysis\")\n",
    "    plt.show()\n",
    "    \n",
    "\n",
    "prob1()"
   ]
  },
  {
   "cell_type": "markdown",
   "metadata": {},
   "source": [
    "## Problem 2\n",
    "Implement the function similar()"
   ]
  },
  {
   "cell_type": "code",
   "execution_count": 3,
   "metadata": {},
   "outputs": [],
   "source": [
    "def similar(i, Xhat):\n",
    "    \"\"\"\n",
    "    Takes an index and matrix representing the principal components and returns the indices of\n",
    "    the documents that are the most and least similar to i.\n",
    "    \n",
    "    Parameters:\n",
    "    i index of a document\n",
    "    Xhat decomposed data: n x l\n",
    "    \n",
    "    Returns:\n",
    "    index_min: index of the document most similar to document i\n",
    "    index_max: index of the document least similar to document i\n",
    "    \"\"\"\n",
    "    results = [np.inner(Xhat[i], Xhat[j]) / (la.norm(Xhat[i]) * la.norm(Xhat[j]))\n",
    "               for j in range(len(Xhat))]\n",
    "    argsorted = np.argsort(results)\n",
    "    return argsorted[-2], argsorted[0]\n"
   ]
  },
  {
   "cell_type": "markdown",
   "metadata": {},
   "source": [
    "### Function for Problem 3"
   ]
  },
  {
   "cell_type": "code",
   "execution_count": 4,
   "metadata": {},
   "outputs": [],
   "source": [
    "def document_converter():\n",
    "    '''\n",
    "    Converts speech documents into an n by m array where m is the number \n",
    "    of vocabulary words and n is the number of documents\n",
    "    \n",
    "    Returns:\n",
    "    X sparse matrix (n x m): Each row represents a document\n",
    "    paths (list): list where each element is a speech path eg: path[0] is './Addresses/1990-Bush.txt'\n",
    "    '''\n",
    "    # Get list of filepaths to each text file in the folder.\n",
    "    folder = \"./Addresses/\"\n",
    "    paths = [folder+p for p in os.listdir(folder) if p.endswith(\".txt\")]\n",
    "\n",
    "    # Helper function to get list of words in a string.\n",
    "    def extractWords(text):\n",
    "        ignore = string.punctuation + string.digits\n",
    "        cleaned = \"\".join([t for t in text.strip() if t not in ignore])\n",
    "        return cleaned.lower().split()\n",
    "\n",
    "    # Initialize vocab set, then read each file and add to the vocab set.\n",
    "    vocab = set()\n",
    "    for p in paths:\n",
    "        with open(p, 'r', encoding=\"utf8\") as infile:\n",
    "            for line in infile:\n",
    "                vocab.update(extractWords(line)) #union sets together\n",
    "\n",
    "\n",
    "    # load stopwords\n",
    "    with open(\"stopwords.txt\", 'r',  encoding=\"utf8\") as f:\n",
    "        stops = set([w.strip().lower() for w in f.readlines()])\n",
    "\n",
    "    # remove stopwords from vocabulary, create ordering\n",
    "    vocab = {w:i for i, w in enumerate(vocab.difference(stops))}\n",
    "\n",
    "\n",
    "    counts = []      # holds the entries of X\n",
    "    doc_index = []   # holds the row index of X\n",
    "    word_index = []  # holds the column index of X\n",
    "\n",
    "    # Iterate through the documents.\n",
    "    for doc, p in enumerate(paths):\n",
    "        with open(p, 'r', encoding=\"utf8\") as f:\n",
    "            # Create the word counter.\n",
    "            ctr = Counter()\n",
    "            for line in f:\n",
    "                ctr.update(extractWords(line))\n",
    "            # Iterate through the word counter, store counts.\n",
    "            for word, count in ctr.items():\n",
    "                if word in vocab:\n",
    "                    word_index.append(vocab[word])\n",
    "                    counts.append(count)\n",
    "                    doc_index.append(doc)\n",
    "\n",
    "    # Create sparse matrix holding these word counts.\n",
    "    X = sparse.csr_matrix((counts, [doc_index, word_index]),\n",
    "                           shape=(len(paths), len(vocab)), dtype=np.float)\n",
    "    return X, paths"
   ]
  },
  {
   "cell_type": "markdown",
   "metadata": {},
   "source": [
    "## Problem 3\n",
    "Use the function above and PCA to find speeches most and least similar to a given speech."
   ]
  },
  {
   "cell_type": "code",
   "execution_count": 5,
   "metadata": {},
   "outputs": [],
   "source": [
    "def prob3(speech, l=7):\n",
    "    \"\"\"\n",
    "    Uses LSI, applied to the word count matrix X, with the first 7 principal\n",
    "    components to find the most similar and least similar speeches\n",
    "\n",
    "    Parameters:\n",
    "        speech str: Path to speech eg: \"./Addresses/1984-Reagan.txt\"\n",
    "        l (int): Number of principal components\n",
    "\n",
    "    Returns:\n",
    "        tuple of str: (Most similar speech, least similar speech)\n",
    "    \"\"\"    \n",
    "    X, paths = document_converter()\n",
    "    index = paths.index(speech)\n",
    "\n",
    "    # Do LSI\n",
    "    U, s, VT = sparse.linalg.svds(X, k=l)\n",
    "    X_hat = X @ VT.T[:,:l]\n",
    "    \n",
    "    # Calculate most and least similar\n",
    "    most, least = similar(index, X_hat)\n",
    "    \n",
    "    # Clean path text\n",
    "    def clean_path(path):\n",
    "        return path.split(\"/\")[-1].split(\".\")[0]\n",
    "    \n",
    "    return clean_path(paths[most]), clean_path(paths[least])"
   ]
  },
  {
   "cell_type": "code",
   "execution_count": 6,
   "metadata": {},
   "outputs": [
    {
     "name": "stdout",
     "output_type": "stream",
     "text": [
      "('1988-Reagan', '1946-Truman')\n",
      "('2010-Obama', '1951-Truman')\n"
     ]
    }
   ],
   "source": [
    "#Run this box once you have written prob3()\n",
    "speech = './Addresses/1984-Reagan.txt'\n",
    "print(prob3(speech))\n",
    "\n",
    "speech = \"./Addresses/1993-Clinton.txt\"\n",
    "print(prob3(speech))"
   ]
  },
  {
   "cell_type": "markdown",
   "metadata": {},
   "source": [
    "## Problem 4\n",
    "Edit the end of the following function to return a weighted sparse matrix A."
   ]
  },
  {
   "cell_type": "code",
   "execution_count": 7,
   "metadata": {},
   "outputs": [],
   "source": [
    "def weighted_document_converter():\n",
    "    '''\n",
    "    Converts speech documents into an n by m array where m is the number \n",
    "    of vocabulary words and n is the number of documents. It gives weights\n",
    "    to the most important words in the vocabulary.\n",
    "    \n",
    "    Returns:\n",
    "    A (sparse matrix, n x m): Each row represents a document\n",
    "    paths (list): list where each element is a speech path eg: path[0] is './Addresses/1990-Bush.txt'\n",
    "    '''\n",
    "    # Get list of filepaths to each text file in the folder.\n",
    "    folder = \"./Addresses/\"\n",
    "    paths = [folder+p for p in os.listdir(folder) if p.endswith(\".txt\")]\n",
    "\n",
    "    # Helper function to get list of words in a string.\n",
    "    def extractWords(text):\n",
    "        ignore = string.punctuation + string.digits\n",
    "        cleaned = \"\".join([t for t in text.strip() if t not in ignore])\n",
    "        return cleaned.lower().split()\n",
    "\n",
    "    # Initialize vocab set, then read each file and add to the vocab set.\n",
    "    vocab = set()\n",
    "    for p in paths:\n",
    "        with open(p, 'r', encoding=\"utf8\") as infile:\n",
    "            for line in infile:\n",
    "                vocab.update(extractWords(line)) #union sets together\n",
    "\n",
    "\n",
    "    # load stopwords\n",
    "    with open(\"stopwords.txt\", 'r',  encoding=\"utf8\") as f:\n",
    "        stops = set([w.strip().lower() for w in f.readlines()])\n",
    "\n",
    "    # remove stopwords from vocabulary, create ordering\n",
    "    vocab = {w:i for i, w in enumerate(vocab.difference(stops))}\n",
    "\n",
    "    t = np.zeros(len(vocab))\n",
    "    counts = []      # holds the entries of X\n",
    "    doc_index = []   # holds the row index of X\n",
    "    word_index = []  # holds the column index of X\n",
    "\n",
    "    # Iterate through the documents.\n",
    "    for doc, p in enumerate(paths):\n",
    "        with open(p, 'r', encoding=\"utf8\") as f:\n",
    "            # Create the word counter.\n",
    "            ctr = Counter()\n",
    "            for line in f:\n",
    "                ctr.update(extractWords(line))\n",
    "            # Iterate through the word counter, store counts.\n",
    "            for word, count in ctr.items():\n",
    "                if word in vocab:\n",
    "                    word_ind = vocab[word]\n",
    "                    word_index.append(word_ind)\n",
    "                    counts.append(count)\n",
    "                    doc_index.append(doc)\n",
    "                    t[word_ind] += count\n",
    "                    \n",
    "    # get global weights\n",
    "\n",
    "    #Problem 4\n",
    "    # student work begins here\n",
    "    \n",
    "    # m = # of documents\n",
    "    # n = # of terms\n",
    "    m = len(set(doc_index))\n",
    "    n = len(set(word_index))\n",
    "\n",
    "    # Calculate p_ij, gj\n",
    "    g = np.ones(n)\n",
    "    for i in range(len(counts)):\n",
    "        doc = doc_index[i]\n",
    "        word = word_index[i]\n",
    "        p_ij = counts[i] / t[word]\n",
    "        g[word] += p_ij * np.log(p_ij + 1) / np.log(m)\n",
    "    \n",
    "    a = []\n",
    "    for i in range(len(counts)):\n",
    "        word = word_index[i]\n",
    "        count = counts[i]\n",
    "        a.append(g[word] * np.log(count + 1))\n",
    "    \n",
    "    A = sparse.csr_matrix((a, [doc_index, word_index]),\n",
    "                           shape=(len(paths), len(vocab)), dtype=np.float)\n",
    "    return A, paths\n"
   ]
  },
  {
   "cell_type": "markdown",
   "metadata": {},
   "source": [
    "## Problem 5\n",
    "Use the weighted_document_converter() function above and scikit-learn's PCA to find speeches most and least similar to a given speech."
   ]
  },
  {
   "cell_type": "code",
   "execution_count": 8,
   "metadata": {},
   "outputs": [],
   "source": [
    "def prob5(speech, l=7):\n",
    "    \"\"\"\n",
    "    Uses LSI, applied to the globally weighted word count matrix A, with the\n",
    "    first 7 principal components to find the most similar and least similar speeches\n",
    "\n",
    "    Parameters:\n",
    "        speech str: Path to speech eg: \"./Addresses/1984-Reagan.txt\"\n",
    "        l (int): Number of principal components\n",
    "\n",
    "    Returns:\n",
    "        tuple of str: (Most similar speech, least similar speech)\n",
    "    \"\"\"\n",
    "    X, paths = weighted_document_converter()\n",
    "    index = paths.index(speech)\n",
    "\n",
    "    # Do LSI\n",
    "    pca = PCA(n_components=7) # Create the PCA transformer with hyperparameters\n",
    "    x_compressed = X.todense()\n",
    "    Xhat = pca.fit_transform(x_compressed)\n",
    "    \n",
    "    # Calculate most and least similar\n",
    "    most, least = similar(index, Xhat)\n",
    "    \n",
    "    # Clean path text\n",
    "    \n",
    "    return paths[most], paths[least]"
   ]
  },
  {
   "cell_type": "code",
   "execution_count": 26,
   "metadata": {},
   "outputs": [
    {
     "name": "stdout",
     "output_type": "stream",
     "text": [
      "('./Addresses/1985-Reagan.txt', './Addresses/1961-Kennedy.txt')\n",
      "('./Addresses/1994-Clinton.txt', './Addresses/1951-Truman.txt')\n"
     ]
    }
   ],
   "source": [
    "#Run this box after you have completed prob5()\n",
    "speech = './Addresses/1984-Reagan.txt'\n",
    "print(prob5(speech))\n",
    "\n",
    "speech = \"./Addresses/1993-Clinton.txt\"\n",
    "print(prob5(speech))"
   ]
  },
  {
   "cell_type": "markdown",
   "metadata": {},
   "source": [
    "## Problem 6\n",
    "- Split the breast cancer dataset into training and testing sets using random_state=2\n",
    "- Fit KNeighborsClassifier and RandomForestClassifier to the training data\n",
    "- Predict labels for the testing set\n",
    "- Print a classification_report for each classifier\n",
    "- Write a few sentences explaining which classifier would be better to use in this situation and why"
   ]
  },
  {
   "cell_type": "code",
   "execution_count": 10,
   "metadata": {
    "scrolled": true
   },
   "outputs": [
    {
     "name": "stdout",
     "output_type": "stream",
     "text": [
      "Random Forest scores\n",
      "              precision    recall  f1-score   support\n",
      "\n",
      "           0       0.93      0.93      0.93        56\n",
      "           1       0.95      0.95      0.95        87\n",
      "\n",
      "    accuracy                           0.94       143\n",
      "   macro avg       0.94      0.94      0.94       143\n",
      "weighted avg       0.94      0.94      0.94       143\n",
      "\n",
      "\n",
      "-------------------------------------------\n",
      "\n",
      "K Nearest Neighbors scores\n",
      "              precision    recall  f1-score   support\n",
      "\n",
      "           0       0.91      0.89      0.90        56\n",
      "           1       0.93      0.94      0.94        87\n",
      "\n",
      "    accuracy                           0.92       143\n",
      "   macro avg       0.92      0.92      0.92       143\n",
      "weighted avg       0.92      0.92      0.92       143\n",
      "\n"
     ]
    }
   ],
   "source": [
    "# Split the breast cancer dataset into training and testing sets\n",
    "cancer = datasets.load_breast_cancer()\n",
    "X = cancer.data\n",
    "y = cancer.target # Class labels (0 or 1)\n",
    "X_train, X_test, y_train, y_test = train_test_split(X, y, \n",
    "                                                    random_state=2)\n",
    "\n",
    "# Random Forest Classifier\n",
    "forest = RandomForestClassifier()\n",
    "forest.fit(X_train, y_train)\n",
    "forest_predicted = forest.predict(X_test)\n",
    "\n",
    "# K Neighbors Classifier\n",
    "knn = KNeighborsClassifier()\n",
    "knn.fit(X_train, y_train)\n",
    "knn_predicted = knn.predict(X_test)\n",
    "\n",
    "print(\"Random Forest scores\")\n",
    "print(classification_report(y_test, forest_predicted))\n",
    "print(\"\\n-------------------------------------------\\n\")\n",
    "print(\"K Nearest Neighbors scores\")\n",
    "print(classification_report(y_test, knn_predicted))\n",
    "\n",
    "# # # # # # # # # # # # # # # # # # # # # # # # # # # # \n",
    "#                                                     # \n",
    "#  In this case, we want to get the least amount of   #\n",
    "#  false negatives as possible because those people   #\n",
    "#  would die from the cancer. So we want to maximize  #\n",
    "#  recall instead of precision.                       #\n",
    "#  We can see that recall is higher on the Random     #\n",
    "#  Forest Classifier, so we would rather have that    #\n",
    "#  for a situation where people's lives are at stake  #\n",
    "#  rather than letting them go home with malignant    #\n",
    "#  cancer in them.                                    #\n",
    "#                                                     # \n",
    "# # # # # # # # # # # # # # # # # # # # # # # # # # # #"
   ]
  },
  {
   "cell_type": "markdown",
   "metadata": {},
   "source": []
  },
  {
   "cell_type": "markdown",
   "metadata": {},
   "source": [
    "## Problem 7\n",
    "- Use the breast cancer dataset split from Problem 6\n",
    "- Run a GridSearch with a RandomForestClassifier, modifying at least three parameters.\n",
    "- Use scoring=\"f1\"\n",
    "- Print out best_params_ and best_score_\n",
    "- Print a confusion matrix for the test data"
   ]
  },
  {
   "cell_type": "code",
   "execution_count": 11,
   "metadata": {},
   "outputs": [
    {
     "name": "stdout",
     "output_type": "stream",
     "text": [
      "{'max_depth': 25, 'min_samples_leaf': 5, 'n_estimators': 100}\n",
      "0.9724408970091899\n",
      "[[52  4]\n",
      " [ 5 82]]\n"
     ]
    }
   ],
   "source": [
    "cancer = datasets.load_breast_cancer()\n",
    "X = cancer.data\n",
    "y = cancer.target # Class labels (0 or 1)\n",
    "X_train, X_test, y_train, y_test = train_test_split(X, y, \n",
    "                                                    random_state=2)\n",
    "\n",
    "# Random Forest Classifier\n",
    "forest = RandomForestClassifier()\n",
    "forest.fit(X_train, y_train)\n",
    "forest_predicted = forest.predict(X_test)\n",
    "param_grid = {\"max_depth\": [4, 25, 100],\n",
    "              \"min_samples_leaf\": [5, 10, 20],\n",
    "              \"n_estimators\" : [100, 500]\n",
    "              }\n",
    "forest_gs = GridSearchCV(forest, param_grid, scoring=\"f1\", n_jobs=-1)\n",
    "\n",
    "# Run the actual search. This may take some time.\n",
    "forest_gs.fit(X_train, y_train)\n",
    "\n",
    "# After fitting, you can access data about the results.\n",
    "print(forest_gs.best_params_, forest_gs.best_score_, sep='\\n')\n",
    "\n",
    "# Next, use the GridSearchCV object to predict labels for your test set. \n",
    "# Print out a confusion matrix using these values\n",
    "gs_pred = forest_gs.predict(X_test)\n",
    "CM = confusion_matrix(y_test, gs_pred)\n",
    "print(CM)"
   ]
  },
  {
   "cell_type": "markdown",
   "metadata": {},
   "source": [
    "## Problem 8\n",
    "- Create a pipeline with a StandardScaler, PCA, and a KNeighborsClassifier\n",
    "- Do a grid search, modifying at least 6 parameters\n",
    "- Print your best parameters and best score (f1)\n",
    "- Get a score of at least .96"
   ]
  },
  {
   "cell_type": "code",
   "execution_count": 25,
   "metadata": {},
   "outputs": [
    {
     "name": "stdout",
     "output_type": "stream",
     "text": [
      "Best Parameters:\n",
      "{'classifier': KNeighborsClassifier(algorithm='ball_tree', n_neighbors=4, weights='distance'), 'classifier__algorithm': 'ball_tree', 'classifier__n_neighbors': 4, 'classifier__weights': 'distance'}\n",
      "\n",
      "Best Score: 0.9782136765623004\n"
     ]
    }
   ],
   "source": [
    "cancer = datasets.load_breast_cancer()\n",
    "X = cancer.data\n",
    "y = cancer.target # Class labels (0 or 1)\n",
    "X_train, X_test, y_train, y_test = train_test_split(X, y, \n",
    "                                                    random_state=2)\n",
    "\n",
    "pipe = Pipeline([(\"scaler\", StandardScaler()),\n",
    "                 (\"PCA\", PCA()),\n",
    "                 (\"classifier\", KNeighborsClassifier())])\n",
    "# Create the grid\n",
    "pipe_param_grid = [\n",
    "    {\"classifier\": [KNeighborsClassifier()], # Try a KNN classifier...\n",
    "    \"classifier__n_neighbors\": [2,3,4,5],\n",
    "    \"classifier__weights\": [\"uniform\", \"distance\"],\n",
    "    \"classifier__algorithm\": [\"ball_tree\", \"kd_tree\", \"brute\"]},\n",
    "    {\"PCA\": [PCA()],\n",
    "    \"PCA__n_components\": [2, 5],\n",
    "    \"PCA__whiten\": [True, False]},\n",
    "    {\"scaler\": [StandardScaler()],\n",
    "     \"scaler__copy\": [True, False]}]\n",
    "\n",
    "# Fit using training data\n",
    "pipe_gs = GridSearchCV(pipe, pipe_param_grid,\n",
    "                       scoring=\"f1\", n_jobs=-1).fit(X_train, y_train)\n",
    "# Get the best hyperparameters and score\n",
    "print(\"Best Parameters:\", pipe_gs.best_params_, sep='\\n')\n",
    "print(\"\\nBest Score: {}\".format(pipe_gs.best_score_))"
   ]
  },
  {
   "cell_type": "code",
   "execution_count": null,
   "metadata": {},
   "outputs": [],
   "source": []
  }
 ],
 "metadata": {
  "kernelspec": {
   "display_name": "Python 3 (ipykernel)",
   "language": "python",
   "name": "python3"
  },
  "language_info": {
   "codemirror_mode": {
    "name": "ipython",
    "version": 3
   },
   "file_extension": ".py",
   "mimetype": "text/x-python",
   "name": "python",
   "nbconvert_exporter": "python",
   "pygments_lexer": "ipython3",
   "version": "3.8.8"
  }
 },
 "nbformat": 4,
 "nbformat_minor": 4
}
