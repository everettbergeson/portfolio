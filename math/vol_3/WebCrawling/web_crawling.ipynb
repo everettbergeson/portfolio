{
 "cells": [
  {
   "cell_type": "markdown",
   "metadata": {},
   "source": [
    "<h1 align=\"center\">Volume 3: Web Crawling</h1>\n",
    "    <Name>\n",
    "    <Class>\n",
    "    <Date>"
   ]
  },
  {
   "cell_type": "code",
   "execution_count": 2,
   "metadata": {
    "scrolled": true
   },
   "outputs": [],
   "source": [
    "import re\n",
    "import time\n",
    "import requests\n",
    "from bs4 import BeautifulSoup\n",
    "import numpy as np\n",
    "from selenium import webdriver\n",
    "from urllib import robotparser\n",
    "from webdriver_manager.chrome import ChromeDriverManager\n",
    "from selenium.webdriver.common.keys import Keys\n",
    "from selenium.common.exceptions import NoSuchElementException\n",
    "\n",
    "from matplotlib import pyplot as plt, rcParams\n",
    "%matplotlib inline\n",
    "# rcParams[\"figure.figsize\"] = (16,12)    # Use this line to increase your figure size (optional)."
   ]
  },
  {
   "cell_type": "markdown",
   "metadata": {},
   "source": [
    "## Problem 1\n",
    "\n",
    "Write a program that accepts a web address defaulting to the http://example.webscraping.com and a list of pages defaulting to [\"/\", \"/trap\", \"/places/default/search\"].\n",
    "For each page, check if the website's robots.txt file permits access.\n",
    "Return a list of boolean values corresponding to each page, and the crawl delay time.\n"
   ]
  },
  {
   "cell_type": "code",
   "execution_count": 6,
   "metadata": {
    "scrolled": true
   },
   "outputs": [
    {
     "data": {
      "text/plain": [
       "([True, True, True], None)"
      ]
     },
     "execution_count": 6,
     "metadata": {},
     "output_type": "execute_result"
    }
   ],
   "source": [
    "#Problem 1\n",
    "def prob1(url='http://example.webscraping.com', \n",
    "          pages=[\"/\", \"/trap\", \"/places/default/search\"]):\n",
    "    \"\"\"Using urllib.robotparser, check if the provided webpages are allowed\n",
    "    based on the website's robots.txt file.\n",
    "    Parameters:\n",
    "        url (str): The website's base url\n",
    "        pages (list): List of strings of webpages to check\n",
    "    Returns:\n",
    "        \"\"\"\n",
    "    # Get robot file parser ready, find crawl delay\n",
    "    rp = robotparser.RobotFileParser()\n",
    "    rp.set_url(url + \"/robots.txt\")\n",
    "    rp.read()\n",
    "    crawl_delay = rp.crawl_delay(\"*\")\n",
    "\n",
    "    # Check access for each of the extensions\n",
    "    access = []\n",
    "    for ext in pages:\n",
    "        access.append(rp.can_fetch(\"*\", url + ext))\n",
    "\n",
    "    return access, crawl_delay\n",
    "\n",
    "prob1()"
   ]
  },
  {
   "cell_type": "markdown",
   "metadata": {},
   "source": [
    "## Problem 2\n",
    "\n",
    "Modify `scrape_books()` so that it gathers the price for each fiction book and returns the mean price in pounds for fiction books instead of the titles."
   ]
  },
  {
   "cell_type": "code",
   "execution_count": 8,
   "metadata": {
    "scrolled": true
   },
   "outputs": [
    {
     "data": {
      "text/plain": [
       "(['Sharp Objects',\n",
       "  'In a Dark, Dark Wood',\n",
       "  'The Past Never Ends',\n",
       "  'A Murder in Time',\n",
       "  'The Murder of Roger Ackroyd (Hercule Poirot #4)',\n",
       "  'The Last Mile (Amos Decker #2)',\n",
       "  'That Darkness (Gardiner and Renner #1)',\n",
       "  'Tastes Like Fear (DI Marnie Rome #3)',\n",
       "  'A Time of Torment (Charlie Parker #14)',\n",
       "  'A Study in Scarlet (Sherlock Holmes #1)',\n",
       "  'Poisonous (Max Revere Novels #3)',\n",
       "  'Murder at the 42nd Street Library (Raymond Ambler #1)',\n",
       "  'Most Wanted',\n",
       "  'Hide Away (Eve Duncan #20)',\n",
       "  'Boar Island (Anna Pigeon #19)',\n",
       "  'The Widow',\n",
       "  'Playing with Fire',\n",
       "  'What Happened on Beale Street (Secrets of the South Mysteries #2)',\n",
       "  \"The Bachelor Girl's Guide to Murder (Herringford and Watts Mysteries #1)\",\n",
       "  'Delivering the Truth (Quaker Midwife Mystery #1)',\n",
       "  'The Mysterious Affair at Styles (Hercule Poirot #1)',\n",
       "  'In the Woods (Dublin Murder Squad #1)',\n",
       "  'The Silkworm (Cormoran Strike #2)',\n",
       "  'The Exiled',\n",
       "  \"The Cuckoo's Calling (Cormoran Strike #1)\",\n",
       "  'Extreme Prey (Lucas Davenport #26)',\n",
       "  'Career of Evil (Cormoran Strike #3)',\n",
       "  \"The No. 1 Ladies' Detective Agency (No. 1 Ladies' Detective Agency #1)\",\n",
       "  'The Girl You Lost',\n",
       "  'The Girl In The Ice (DCI Erika Foster #1)',\n",
       "  'Blood Defense (Samantha Brinkman #1)',\n",
       "  \"1st to Die (Women's Murder Club #1)\"],\n",
       " 31.7190625)"
      ]
     },
     "execution_count": 8,
     "metadata": {},
     "output_type": "execute_result"
    }
   ],
   "source": [
    "#Problem 2\n",
    "def scrape_books(start_page = \"index.html\"):\n",
    "    \"\"\" Crawl through http://books.toscrape.com and extract fiction data\"\"\"\n",
    "    \n",
    "        # Initialize variables, including a regex for finding the 'next' link.\n",
    "    base_url=\"http://books.toscrape.com/catalogue/category/books/mystery_3/\"\n",
    "    titles = []\n",
    "    prices = []\n",
    "    page = base_url + start_page # Complete page URL.\n",
    "    next_page_finder = re.compile(r\"next\") # We need this button.\n",
    "\n",
    "    current = None\n",
    "\n",
    "    for _ in range(4):\n",
    "        while current == None: # Try downloading until it works.\n",
    "            # Download the page source and PAUSE before continuing.\n",
    "            page_source = requests.get(page).text\n",
    "            time.sleep(1) # PAUSE before continuing.\n",
    "            soup = BeautifulSoup(page_source, \"html.parser\")\n",
    "            current = soup.find_all(class_=\"product_pod\")\n",
    "\n",
    "            # Navigate to the correct tag and extract title\n",
    "            for book in current:\n",
    "                titles.append(book.h3.a[\"title\"])\n",
    "                price = book.find(class_=\"price_color\")\n",
    "                prices.append(float(price.text.strip(\"Â£\")))\n",
    "\n",
    "            # Find the URL for the page with the next data.\n",
    "            if \"page-4\" not in page:\n",
    "                if soup.find(string=next_page_finder) is not None:\n",
    "                    new_page = soup.find(string=next_page_finder).parent[\"href\"]\n",
    "                    page = base_url + new_page # New complete page URL.\n",
    "                    current = None\n",
    "    return titles, np.mean(prices)\n",
    "scrape_books()"
   ]
  },
  {
   "cell_type": "markdown",
   "metadata": {},
   "source": [
    "## Problem 3\n",
    "\n",
    "The website IMDB contains a variety of information on movies.\n",
    "Specifically, information on the top 10 box office movies of the week can be found at https://www.imdb.com/chart/boxoffice.\n",
    "Using BeaufiulSoup, Selenium, or both, return a  list of the top 10 movies of the week and order the list according to the total grossing of the movies, from most money to the least."
   ]
  },
  {
   "cell_type": "code",
   "execution_count": 10,
   "metadata": {
    "scrolled": true
   },
   "outputs": [
    {
     "data": {
      "text/plain": [
       "['Spider-Man: No Way Home',\n",
       " 'Ghostbusters: Afterlife',\n",
       " 'Sing 2',\n",
       " 'House of Gucci',\n",
       " 'The Matrix Resurrections',\n",
       " 'West Side Story',\n",
       " \"The King's Man\",\n",
       " 'American Underdog',\n",
       " 'Licorice Pizza',\n",
       " 'The 355']"
      ]
     },
     "execution_count": 10,
     "metadata": {},
     "output_type": "execute_result"
    }
   ],
   "source": [
    "# Problem 3\n",
    "def scrape_imdb():\n",
    "    # browser = webdriver.Chrome(ChromeDriverManager().install())\n",
    "    # browser.get(\"https://www.imdb.com/chart/boxoffice\")\n",
    "    # # soup = BeautifulSoup(browser.page_source, \"html.parser\")\n",
    "    \n",
    "    response = requests.get(\"https://www.imdb.com/chart/boxoffice\")\n",
    "    soup = BeautifulSoup(response.text, \"html.parser\")\n",
    "    rows = soup.find_all(name=\"tr\")\n",
    "    titles_list = []\n",
    "    weekend_list = []\n",
    "    gross_list = []\n",
    "    clean_weekend = []\n",
    "    clean_gross = []\n",
    "\n",
    "    for row in rows:\n",
    "        titles = row.find_all(class_=\"titleColumn\")\n",
    "        if len(titles) > 0:\n",
    "            titles_list.append(titles[0].text.strip())\n",
    "        rating_cols = row.find_all(class_=\"ratingColumn\")\n",
    "        for i, rate in enumerate(rating_cols):\n",
    "            if rate is not None:\n",
    "                if i == 0:\n",
    "                    weekend_list.append(rate.text.strip())\n",
    "                else:\n",
    "                    gross_list.append(rate.text.strip())\n",
    "        \n",
    "    for w, g in zip(weekend_list, gross_list):\n",
    "        w1 = float(re.sub(r'[^0-9\\.]', '', w))\n",
    "        w_end = w[-1]\n",
    "        if w_end == 'M':\n",
    "            w1 = w1 * 1e6\n",
    "        elif w_end == 'K':\n",
    "            w1 = w1 * 1e3\n",
    "        clean_weekend.append(w1)\n",
    "\n",
    "        g1 = float(re.sub(r'[^0-9\\.]', '', g))\n",
    "        g_end = g[-1]\n",
    "        if g_end == 'M':\n",
    "            g1 = g1 * 1e6\n",
    "        elif g_end == 'K':\n",
    "            g1 = g1 * 1e3\n",
    "        clean_gross.append(g1)  \n",
    "    \n",
    "    sorted_titles = [title for _, _, title in sorted(zip(clean_gross, clean_weekend, titles_list), \n",
    "                                                  key=lambda x: (x[0], x[1]),\n",
    "                                                  reverse=True)]\n",
    "    return sorted_titles\n",
    "\n",
    "scrape_imdb()"
   ]
  },
  {
   "cell_type": "markdown",
   "metadata": {},
   "source": [
    "## Problem 4\n",
    "\n",
    "Project Euler (https://projecteuler.net) is a collection of mathematical computing problems.\n",
    "Each problem is listed with an ID, a description/title, and the number of users that have solved the problem.\n",
    "\n",
    "Using Selenium, BeautifulSoup, or both, record the number of people who have solved each of the 700+ problems in the archive at https://projecteuler.net/archives.\n",
    "Plot the number of people who have solved each problem against the problem IDs, using a log scale for the y-axis.\n",
    "Display the scatter plot and then print the IDs of the problems that have been solved most and least number of times."
   ]
  },
  {
   "cell_type": "code",
   "execution_count": 13,
   "metadata": {
    "scrolled": true
   },
   "outputs": [
    {
     "data": {
      "image/png": "[encoded data removed]",
      "text/plain": [
       "<Figure size 432x288 with 1 Axes>"
      ]
     },
     "metadata": {
      "needs_background": "light"
     },
     "output_type": "display_data"
    },
    {
     "name": "stdout",
     "output_type": "stream",
     "text": [
      "Least solved: 763\n",
      "Most solved: 1\n"
     ]
    }
   ],
   "source": [
    "# Problem 4\n",
    "def project_euler():\n",
    "    base_url =\"https://projecteuler.net/problem=\"\n",
    "\n",
    "    solved = []\n",
    "    for i in range(1, 769):\n",
    "        response = requests.get(base_url + str(i))\n",
    "        soup = BeautifulSoup(response.text, \"html.parser\")\n",
    "        for i in soup.find_all(class_=\"tooltiptext_right\"):\n",
    "            s = i.text\n",
    "            selected = re.findall(r'Solved by \\d+', s)\n",
    "            for s in selected:\n",
    "                for s_str in re.findall(r'\\d+', s):\n",
    "                    solved.append(float(s_str))\n",
    "    \n",
    "    plt.scatter(np.arange(768), solved)\n",
    "    plt.yscale('log')\n",
    "    plt.show()\n",
    "    print(f\"Least solved: {np.argmin(solved) + 1}\")\n",
    "    print(f\"Most solved: {np.argmax(solved) + 1}\")\n",
    "project_euler()"
   ]
  },
  {
   "cell_type": "markdown",
   "metadata": {},
   "source": [
    "## Problem 5\n",
    "\n",
    "The website http://example.webscraping.com contains a list of countries of the world.\n",
    "Using Selenium, go to the search page, enter the letters \"ca\", and hit enter or click the search button.\n",
    "Remember to use the crawl delay time you found in Problem Problem 1 so you don't send your requests too fast.\n",
    "Gather the href links associated with the < a > tags of all 10 displayed results.\n",
    "Print each link on a different line."
   ]
  },
  {
   "cell_type": "code",
   "execution_count": 50,
   "metadata": {
    "scrolled": true
   },
   "outputs": [
    {
     "name": "stderr",
     "output_type": "stream",
     "text": [
      "\n",
      "\n",
      "====== WebDriver manager ======\n",
      "Current google-chrome version is 97.0.4692\n",
      "Get LATEST chromedriver version for 97.0.4692 google-chrome\n",
      "Driver [C:\\Users\\bergm\\.wdm\\drivers\\chromedriver\\win32\\97.0.4692.71\\chromedriver.exe] found in cache\n"
     ]
    },
    {
     "name": "stdout",
     "output_type": "stream",
     "text": [
      "http://example.python-scraping.com/places/default/view/American-Samoa-5\n",
      "http://example.python-scraping.com/places/default/view/Antarctica-9\n",
      "http://example.python-scraping.com/places/default/view/Cambodia-39\n",
      "http://example.python-scraping.com/places/default/view/Cameroon-40\n",
      "http://example.python-scraping.com/places/default/view/Canada-41\n",
      "http://example.python-scraping.com/places/default/view/Cape-Verde-42\n",
      "http://example.python-scraping.com/places/default/view/Cayman-Islands-43\n",
      "http://example.python-scraping.com/places/default/view/Central-African-Republic-44\n",
      "http://example.python-scraping.com/places/default/view/Costa-Rica-52\n",
      "http://example.python-scraping.com/places/default/view/Curacao-55\n"
     ]
    }
   ],
   "source": [
    "# Problem 5\n",
    "\n",
    "# http://example.python-scraping.com/\n",
    "\n",
    "\n",
    "def problem_5():\n",
    "    browser = webdriver.Chrome(ChromeDriverManager().install())\n",
    "    try:\n",
    "        browser.get(\"http://example.python-scraping.com/\")\n",
    "        try:\n",
    "            search_button = browser.find_element_by_partial_link_text(\"Search\")\n",
    "            search_button.click()\n",
    "            try: \n",
    "                time.sleep(5)\n",
    "                search_bar = browser.find_element_by_css_selector(\"input\")\n",
    "                search_bar.send_keys('ca')\n",
    "                search_bar.send_keys(Keys.RETURN)\n",
    "                try:\n",
    "                    time.sleep(5)\n",
    "                    results = browser.find_element_by_id(\"results\")\n",
    "                    # print(results.get_attribute('innerHTML'))\\\n",
    "                    links = []\n",
    "                    for r in results.find_elements_by_css_selector(\"a\"):\n",
    "                        links.append(r.get_attribute('href'))\n",
    "                    return links\n",
    "                              \n",
    "                except NoSuchElementException:\n",
    "                    print(\"No results\")\n",
    "                    \n",
    "            except NoSuchElementException:\n",
    "                print(\"No search bar found\")\n",
    "                \n",
    "        except NoSuchElementException:\n",
    "            print(\"No search button found\")\n",
    "\n",
    "            \n",
    "        \n",
    "    finally:\n",
    "        browser.quit()\n",
    "for link in problem_5():\n",
    "    print(link)\n",
    "           "
   ]
  },
  {
   "cell_type": "code",
   "execution_count": null,
   "metadata": {},
   "outputs": [],
   "source": []
  }
 ],
 "metadata": {
  "kernelspec": {
   "display_name": "Python 3",
   "language": "python",
   "name": "python3"
  },
  "language_info": {
   "codemirror_mode": {
    "name": "ipython",
    "version": 3
   },
   "file_extension": ".py",
   "mimetype": "text/x-python",
   "name": "python",
   "nbconvert_exporter": "python",
   "pygments_lexer": "ipython3",
   "version": "3.8.8"
  }
 },
 "nbformat": 4,
 "nbformat_minor": 2
}
