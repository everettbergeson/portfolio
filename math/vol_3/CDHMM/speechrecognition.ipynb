{
 "cells": [
  {
   "cell_type": "code",
   "execution_count": 66,
   "metadata": {},
   "outputs": [],
   "source": [
    "import scipy as sp\n",
    "import scipy.io.wavfile as wavfile\n",
    "import os\n",
    "import gmmhmm as hmm\n",
    "import MFCC\n",
    "import numpy as np\n",
    "import re\n",
    "import random\n",
    "import pickle\n",
    "from sklearn.decomposition import PCA\n",
    "from matplotlib import pyplot as plt\n",
    "import time"
   ]
  },
  {
   "cell_type": "markdown",
   "metadata": {},
   "source": [
    "## Problem 1\n",
    "\n",
    "Write a function which accepts a GMMHMM as well as\n",
    "an integer n_sim, and which simulates the GMMHMM process, generating n_sim different\n",
    "observations. Use the example GMMHMM to sample 900 times. Use PCA from SkLearn to plot your generated observations in 2D space. Color observations by state."
   ]
  },
  {
   "cell_type": "code",
   "execution_count": 7,
   "metadata": {},
   "outputs": [],
   "source": [
    "def sample_gmmhmm(gmmhmm, n_sim):\n",
    "    \"\"\"\n",
    "    Simulate from a GMMHMM.\n",
    "    \n",
    "    Returns\n",
    "    -------\n",
    "    states : ndarray of shape (n_sim,)\n",
    "        The sequence of states\n",
    "    obs : ndarray of shape (n_sim, M)\n",
    "        The generated observations (vectors of length M)\n",
    "    \"\"\"    \n",
    "    states = []\n",
    "    obs = []\n",
    "    state = np.argmax(np.random.multinomial(1,gmmhmm[-1]))\n",
    "    for i in range(n_sim):\n",
    "        sample_component = np.argmax(np.random.multinomial(1, gmmhmm[1][state,:]))\n",
    "        sample = np.random.multivariate_normal(gmmhmm[2][state, sample_component, :], gmmhmm[3][state, sample_component, :, :])\n",
    "        states.append(state)\n",
    "        obs.append(sample)\n",
    "        state = np.argmax(np.random.multinomial(1, gmmhmm[0][:,state]))\n",
    "    return np.array(states), np.array(obs)\n",
    "    \n",
    "    \n",
    "A = np.array([[.65, .35], [.15, .85]]) # state transition matrix\n",
    "pi = np.array([.8, .2]) # initial state distribution\n",
    "weights = np.array([[.7, .2, .1], [.1, .5, .4]])\n",
    "means1 = np.array([[0., 17., -4.], [5., -12., -8.], [-16., 22., 2.]])\n",
    "means2 = np.array([[-5., 3., 23.], [-12., -2., 14.], [15., -32., 0.]])\n",
    "means = np.array([means1, means2])\n",
    "covars1 = np.array([5*np.eye(3), 7*np.eye(3), np.eye(3)])\n",
    "covars2 = np.array([10*np.eye(3), 3*np.eye(3), 4*np.eye(3)])\n",
    "covars = np.array([covars1, covars2])\n",
    "gmmhmm = [A, weights, means, covars, pi]\n",
    "\n",
    "states, samples = sample_gmmhmm(gmmhmm, 900)"
   ]
  },
  {
   "cell_type": "markdown",
   "metadata": {},
   "source": []
  },
  {
   "cell_type": "code",
   "execution_count": 26,
   "metadata": {},
   "outputs": [
    {
     "data": {
      "image/png": "[encoded data removed]",
      "text/plain": [
       "<Figure size 432x288 with 1 Axes>"
      ]
     },
     "metadata": {
      "needs_background": "light"
     },
     "output_type": "display_data"
    }
   ],
   "source": [
    "ys = PCA(n_components=2).fit_transform(samples)\n",
    "ys_0 = ys[states == 0]\n",
    "ys_1 = ys[states == 1]\n",
    "plt.scatter(ys_0[:,0], ys_0[:,1])\n",
    "plt.scatter(ys_1[:,0], ys_1[:,1])\n",
    "plt.show()"
   ]
  },
  {
   "cell_type": "markdown",
   "metadata": {},
   "source": [
    "## Problem 2\n",
    "\n",
    "Samples.zip contains 30 recordings for each of the words/phrases mathematics, biology, political science, psychology, and statistics. These audio samples are 2 seconds in\n",
    "duration, recorded at a rate of 44100 samples per second, with samples stored as 16-bit signed\n",
    "integers in WAV format. \n",
    "Load the recordings into Python using scipy.io.wavfile.read\n",
    "\n",
    "Extract the MFCCs from each sample using code from the file MFCC.py.\n",
    "Store the MFCCs for each word in a separate list. You should have five lists, each containing\n",
    "30 MFCC arrays, corresponding to each of the five words under consideration."
   ]
  },
  {
   "cell_type": "code",
   "execution_count": 43,
   "metadata": {},
   "outputs": [
    {
     "name": "stderr",
     "output_type": "stream",
     "text": [
      "<ipython-input-43-1d38d18fb8de>:6: WavFileWarning: Chunk (non-data) not understood, skipping it.\n",
      "  lists[i].append(MFCC.extract(wavfile.read(\"Samples/\" + f)[1]))\n"
     ]
    },
    {
     "data": {
      "image/png": "[encoded data removed]",
      "text/plain": [
       "<Figure size 432x288 with 1 Axes>"
      ]
     },
     "metadata": {
      "needs_background": "light"
     },
     "output_type": "display_data"
    }
   ],
   "source": [
    "lists = [[] for i in range(5)]\n",
    "topics = [\"Biology\", \"Mathematics\", \"Psychology\", \"Statistics\", \"PoliticalScience\"]\n",
    "for f in os.listdir(\"Samples\"):\n",
    "    for i, t in enumerate(topics):\n",
    "        if t in f:\n",
    "            lists[i].append(MFCC.extract(wavfile.read(\"Samples/\" + f)[1]))"
   ]
  },
  {
   "cell_type": "markdown",
   "metadata": {},
   "source": [
    "## Problem 3\n",
    "\n",
    "Partition each list of MFCCs into a training set of 20 samples, and a test set of\n",
    "the remaining 10 samples.\n",
    "Using the training sets, train a GMMHMM on each of the words from the previous problem\n",
    "with at least 10 random restarts, keeping the best model for each word (the one with the highest\n",
    "log-likelihood). This process may take several minutes. Since you will not want to run this\n",
    "more than once, you will want to save the best model for each word to disk using the pickle\n",
    "module so that you can use it later."
   ]
  },
  {
   "cell_type": "code",
   "execution_count": 28,
   "metadata": {},
   "outputs": [],
   "source": [
    "def initialize(n_states):\n",
    "    transmat = np.ones((n_states,n_states))/float(n_states)\n",
    "    for i in range(n_states):\n",
    "        transmat[i,:] += sp.random.uniform(-1./n_states,1./n_states,n_states)\n",
    "        transmat[i,:] /= sum(transmat[i,:])\n",
    "    startprob = np.ones(n_states)/float(n_states) + sp.random.uniform(-1./n_states,1./n_states,n_states)\n",
    "    startprob /= sum(startprob)\n",
    "    return startprob, transmat"
   ]
  },
  {
   "cell_type": "code",
   "execution_count": 100,
   "metadata": {},
   "outputs": [],
   "source": [
    "# Do train test split\n",
    "train_dict_list = []\n",
    "test_dict_list = []\n",
    "for l, topic in zip(lists, topics):\n",
    "    shuffled = np.random.permutation(30)\n",
    "    train = shuffled[:20]\n",
    "    test = shuffled[20:]\n",
    "    train_dict_list.append((topic, np.array(l)[train]))\n",
    "    test_dict_list.append((topic, np.array(l)[test]))\n",
    "                          \n",
    "train_dict = dict(train_dict_list)\n",
    "test_dict = dict(test_dict_list)"
   ]
  },
  {
   "cell_type": "code",
   "execution_count": 91,
   "metadata": {},
   "outputs": [],
   "source": [
    "model_dict_list = []\n",
    "for topic, samples in train_dict.items():\n",
    "    logprobs = []\n",
    "    models = []\n",
    "    # 10 random restarts\n",
    "    for i in range(10):\n",
    "        startprob, transmat = initialize(5)\n",
    "        model = hmm.GMMHMM(n_components=5, \n",
    "                           n_mix=3, \n",
    "                           transmat=transmat, \n",
    "                           startprob=startprob, \n",
    "                           cvtype='diag')\n",
    "        # these values for covars_prior and var should work well for this problem\n",
    "        model.covars_prior = 0.01\n",
    "        model.fit(samples, init_params='mc', var=0.1)\n",
    "        \n",
    "        logprobs.append(model.logprob)\n",
    "        models.append(model)\n",
    "    model_dict_list.append((topic, models[np.argmax(logprobs)]))"
   ]
  },
  {
   "cell_type": "markdown",
   "metadata": {},
   "source": [
    "## Problem 4\n",
    "\n",
    "Classify the 10 test samples for each word. Make a dictionary containing the accuracy\n",
    "of the classification of your five testing sets where the words/phrases are the keys,\n",
    "and the values are the percent accuracy.\n",
    "\n",
    "Write a few sentences answering the following questions:\n",
    "How does your system perform?\n",
    "Which words are the hardest to correctly classify?"
   ]
  },
  {
   "cell_type": "code",
   "execution_count": 108,
   "metadata": {},
   "outputs": [
    {
     "name": "stdout",
     "output_type": "stream",
     "text": [
      "Biology: 1.0\n",
      "Mathematics: 1.0\n",
      "Psychology: 1.0\n",
      "Statistics: 1.0\n",
      "PoliticalScience: 0.9\n",
      "\n",
      "{'Biology': 1.0, 'Mathematics': 1.0, 'Psychology': 1.0, 'Statistics': 1.0, 'PoliticalScience': 0.9}\n"
     ]
    }
   ],
   "source": [
    "# model_dict = dict(model_dict_list)\n",
    "\n",
    "topic_scores = []\n",
    "# Look at the 10 test samples for each topic\n",
    "for topic, samples in test_dict.items():\n",
    "    topic_score = 0\n",
    "    # For each sample\n",
    "    for sample in samples:\n",
    "        model_scores = []\n",
    "        # See which model gives it the best score\n",
    "        for model in model_dict.values():\n",
    "            model_scores.append(model.score(sample))\n",
    "        # See if the best score is the right topic\n",
    "        if topics[np.argmax(model_scores)] == topic:\n",
    "            topic_score += 1\n",
    "    print(\"{}: {}\".format(topic, topic_score / 10))\n",
    "    topic_scores.append(topic_score / 10)\n",
    "print()\n",
    "print(dict([(t, s) for t, s in zip(topics, topic_scores)]))"
   ]
  },
  {
   "cell_type": "markdown",
   "metadata": {},
   "source": [
    "Mine seems to have done a really great job, Political science was less accurate, that could be because it is such a different word than the other words that it may have had a hard time recognizing it. It's way longer and has 2 words in it so I think that could be the cause. "
   ]
  }
 ],
 "metadata": {
  "kernelspec": {
   "display_name": "Python 3",
   "language": "python",
   "name": "python3"
  },
  "language_info": {
   "codemirror_mode": {
    "name": "ipython",
    "version": 3
   },
   "file_extension": ".py",
   "mimetype": "text/x-python",
   "name": "python",
   "nbconvert_exporter": "python",
   "pygments_lexer": "ipython3",
   "version": "3.8.8"
  }
 },
 "nbformat": 4,
 "nbformat_minor": 4
}
