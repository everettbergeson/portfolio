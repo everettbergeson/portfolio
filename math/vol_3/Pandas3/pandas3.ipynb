{
 "cells": [
  {
   "cell_type": "markdown",
   "metadata": {
    "colab_type": "text",
    "id": "bW431NWpWQvg"
   },
   "source": [
    "# Pandas 3\n",
    "### Name\n",
    "### Class\n",
    "### Date"
   ]
  },
  {
   "cell_type": "code",
   "execution_count": 2,
   "metadata": {
    "colab": {},
    "colab_type": "code",
    "id": "SUIQR8wua0n-"
   },
   "outputs": [],
   "source": [
    "import pandas as pd\n",
    "import numpy as np\n",
    "import matplotlib.pyplot as plt"
   ]
  },
  {
   "cell_type": "markdown",
   "metadata": {
    "colab_type": "text",
    "id": "WtvM7fKitmn0"
   },
   "source": [
    "# Problem 1"
   ]
  },
  {
   "cell_type": "code",
   "execution_count": 3,
   "metadata": {
    "colab": {},
    "colab_type": "code",
    "id": "UnY5vviOBe8s"
   },
   "outputs": [
    {
     "data": {
      "text/plain": [
       "(array([212.        ,  17.13915094,   3.41804873,   6.7       ,\n",
       "         15.1       ,  17.25      ,  19.325     ,  28.8       ]),\n",
       " array([565.        ,  29.33097345,  17.85139147,   1.        ,\n",
       "         17.        ,  25.        ,  36.        ,  96.        ]),\n",
       " array([565.        ,  56.95752212,  19.58836048,   9.        ,\n",
       "         42.        ,  55.        ,  70.        , 100.        ]))"
      ]
     },
     "execution_count": 3,
     "metadata": {},
     "output_type": "execute_result"
    }
   ],
   "source": [
    "def prob1():\n",
    "    \"\"\"\n",
    "    Use groupby objects to determine information about private\n",
    "    and public universities.\n",
    "    Specifically examine the columns 'S.F.Ratio', 'Top10perc',\n",
    "    and 'Top25perc'.\n",
    "    For each column return the values of the describe function\n",
    "    for the type of university with the higher mean.\n",
    "    \n",
    "    Return:\n",
    "        ans_1 (ndarray): describe array of universities with \n",
    "                         higher S.F.Ratio\n",
    "        ans_2 (ndarray): describe array of universities with\n",
    "                         more students from Top10perc\n",
    "        ans_3 (ndarray): describe array of universities with\n",
    "                         more students from Top25perc\n",
    "    \"\"\"\n",
    "    # Read in CSV\n",
    "    df = pd.read_csv('college.csv')\n",
    "    grouped = df.groupby('Private')\n",
    "    \n",
    "    # Get which column is greater\n",
    "    gp1 = grouped['S.F.Ratio'].describe()['mean'].idxmax()\n",
    "    gp2 = grouped['Top10perc'].describe()['mean'].idxmax()\n",
    "    gp3 = grouped['Top25perc'].describe()['mean'].idxmax()\n",
    "    \n",
    "    # Get values\n",
    "    ans_1 = grouped['S.F.Ratio'].describe().loc[gp1].values\n",
    "    ans_2 = grouped['Top10perc'].describe().loc[gp2].values\n",
    "    ans_3 = grouped['Top25perc'].describe().loc[gp3].values\n",
    "\n",
    "    return ans_1, ans_2, ans_3\n",
    "prob1()"
   ]
  },
  {
   "cell_type": "markdown",
   "metadata": {
    "colab_type": "text",
    "id": "kkl-OwD3tosX"
   },
   "source": [
    "# Problem 2"
   ]
  },
  {
   "cell_type": "code",
   "execution_count": 4,
   "metadata": {
    "colab": {},
    "colab_type": "code",
    "id": "21bBA9dzCNxc"
   },
   "outputs": [
    {
     "data": {
      "image/png": "[encoded data removed]",
      "text/plain": [
       "<Figure size 432x288 with 1 Axes>"
      ]
     },
     "metadata": {
      "needs_background": "light"
     },
     "output_type": "display_data"
    },
    {
     "data": {
      "image/png": "[encoded data removed]",
      "text/plain": [
       "<Figure size 432x288 with 1 Axes>"
      ]
     },
     "metadata": {
      "needs_background": "light"
     },
     "output_type": "display_data"
    }
   ],
   "source": [
    "def prob2():\n",
    "    \"\"\"\n",
    "    Use groupby visualizations to compare the following\n",
    "    in private and public universities:\n",
    "        1. Number of applicants, accept applicants, and\n",
    "           enrolled applicants\n",
    "        2. Range of price for room and board\n",
    "    \"\"\"\n",
    "    df = pd.read_csv('college.csv')\n",
    "    grouped = df.groupby('Private')\n",
    "    grouped[[\"Apps\", \"Accept\", \"Enroll\"]].mean().plot(kind=\"barh\",\n",
    "                                                xerr=grouped.std(), \n",
    "                                                title=\"Enrollment Statistics\")\n",
    "    plt.xlabel('Number of Students')\n",
    "    plt.tight_layout()\n",
    "    plt.show()\n",
    "    \n",
    "    df.boxplot([\"Room.Board\"], by=\"Private\", grid=False)\n",
    "    plt.ylabel('Amount in Dollars')\n",
    "    plt.tight_layout()\n",
    "    plt.show()\n",
    "\n",
    "prob2()"
   ]
  },
  {
   "cell_type": "markdown",
   "metadata": {
    "colab_type": "text",
    "id": "XQJj5O7btqQW"
   },
   "source": [
    "# Problem 3"
   ]
  },
  {
   "cell_type": "code",
   "execution_count": 63,
   "metadata": {
    "colab": {},
    "colab_type": "code",
    "id": "Qs3BS0NKRgo1"
   },
   "outputs": [
    {
     "data": {
      "text/plain": [
       "((1, 1), (3, 2), (3, 1))"
      ]
     },
     "execution_count": 63,
     "metadata": {},
     "output_type": "execute_result"
    }
   ],
   "source": [
    "def prob3():\n",
    "    \"\"\"\n",
    "    Use Ohio_1999.csv and pivot tables to answer the\n",
    "    following questions\n",
    "        1. Which race/sex combination makes the most money in total?\n",
    "        2. Which race/sex combination worked the least amount of \n",
    "            cumulative hours?\n",
    "        3. What race/sex combination worked the most hours per week per person?\n",
    "    \n",
    "    Returns:\n",
    "        ans_1 (tuple): tuple with race and sex code, respectively\n",
    "        ans_2 (tuple): tuple with race and sex code, respectively\n",
    "        ans_3 (tuple): tuple with race and sex code, respectively\n",
    "    \"\"\"\n",
    "    df = pd.read_csv('Ohio_1999.csv')\n",
    "    # Highest Usual Weekly Earnings in total?\n",
    "    vals = df.pivot_table(values='Usual Weekly Earnings', index=\"Race\", \n",
    "                          columns=\"Sex\", aggfunc=\"sum\")\n",
    "    index = np.unravel_index(np.argmax(vals.values.flatten()), vals.shape)\n",
    "    ans_1 = (index[0] + 1, index[1] + 1)\n",
    "    \n",
    "    # Lowest cumulative Usual Hours Worked?\n",
    "    uhw_piv = df.pivot_table(values='Usual Hours Worked', index=\"Race\", \n",
    "                         columns=\"Sex\", aggfunc=\"sum\")\n",
    "    index = np.unravel_index(np.argmin(uhw_piv.values.flatten()), vals.shape)\n",
    "    ans_2 = (index[0] + 1, index[1] + 1)\n",
    "    \n",
    "    # Highest Average Usual Hours Worked?\n",
    "    uhw_piv_mean = df.pivot_table(values='Usual Hours Worked', \n",
    "                                        index=\"Race\", columns=\"Sex\", \n",
    "                                        aggfunc=\"mean\")\n",
    "    index = np.unravel_index(np.argmax(uhw_piv_mean.values.flatten()), \n",
    "                                       vals.shape)\n",
    "    ans_3 = (index[0] + 1, index[1] + 1)\n",
    "    \n",
    "    return ans_1, ans_2, ans_3\n",
    "prob3()"
   ]
  },
  {
   "cell_type": "markdown",
   "metadata": {
    "colab_type": "text",
    "id": "w0OmwW_VtsAp"
   },
   "source": [
    "# Problem 4"
   ]
  },
  {
   "cell_type": "code",
   "execution_count": 103,
   "metadata": {
    "colab": {},
    "colab_type": "code",
    "id": "in76s4x5iAX9"
   },
   "outputs": [
    {
     "name": "stdout",
     "output_type": "stream",
     "text": [
      "Index(['Usual Weekly Earnings', 'Usual Hours Worked', 'Age',\n",
      "       'Educational Attainment', 'Race', 'Sex', 'Yearly Salary'],\n",
      "      dtype='object')\n"
     ]
    },
    {
     "data": {
      "text/plain": [
       "(Educational Attainment    (38, 42]\n",
       " dtype: interval,\n",
       " Usual Hours Worked    (40.0, 46.0]\n",
       " dtype: interval,\n",
       " Yearly Salary    ((15.999, 29.0], (31, 38])\n",
       " dtype: object)"
      ]
     },
     "execution_count": 103,
     "metadata": {},
     "output_type": "execute_result"
    }
   ],
   "source": [
    "def prob4():\n",
    "    \"\"\"\n",
    "    Use Ohio_1999.csv to answer the following questions:\n",
    "        1. What is the most common degree among workers?\n",
    "        2. Which age group works the most hours on average?\n",
    "        3. What age/degree combination has the smallest yearly\n",
    "           salary on average?\n",
    "    \n",
    "    Return:\n",
    "        ans_1 (Interval): degree interval\n",
    "        ans_2 (Interval): age interval\n",
    "        ans_3 (Interval, Interval): age interval and degree interval\n",
    "    \"\"\"\n",
    "    df = pd.read_csv('Ohio_1999.csv')\n",
    "    print(df.columns)\n",
    "    educs = pd.cut(df['Educational Attainment'], [31, 38, 42, 46])\n",
    "    ans_1 = df.pivot_table(values='Educational Attainment',\n",
    "                           index=educs, aggfunc=\"count\").idxmax()\n",
    "    \n",
    "    ages = pd.qcut(df['Age'], 6)\n",
    "    ans_2 = df.pivot_table(values='Usual Hours Worked',\n",
    "                           index=ages).idxmax()\n",
    "    \n",
    "    ans_3 = df.pivot_table(values='Yearly Salary',\n",
    "                           index=[ages, educs]).idxmin()\n",
    "    return ans_1, ans_2, ans_3\n",
    "prob4()\n"
   ]
  },
  {
   "cell_type": "markdown",
   "metadata": {
    "colab_type": "text",
    "id": "p_583lcgtuQv"
   },
   "source": [
    "# Problem 5"
   ]
  },
  {
   "cell_type": "code",
   "execution_count": 127,
   "metadata": {
    "colab": {},
    "colab_type": "code",
    "id": "I8vUMUB4fjHR"
   },
   "outputs": [
    {
     "name": "stdout",
     "output_type": "stream",
     "text": [
      "No                Expend  perc.alumni\n",
      "Expend       1.000000     0.123694\n",
      "perc.alumni  0.123694     1.000000\n",
      "Yes                Expend  perc.alumni\n",
      "Expend       1.000000     0.378988\n",
      "perc.alumni  0.378988     1.000000\n",
      "Private        No  Yes\n",
      "Grad.Rate             \n",
      "(9.999, 51.0]  83   78\n",
      "(51.0, 61.0]   56   98\n",
      "(61.0, 70.0]   40  122\n",
      "(70.0, 81.0]   23  129\n",
      "(81.0, 118.0]  10  138\n"
     ]
    },
    {
     "data": {
      "text/plain": [
       "(True, False, False, 'Not sure')"
      ]
     },
     "execution_count": 127,
     "metadata": {},
     "output_type": "execute_result"
    }
   ],
   "source": [
    "def prob5():\n",
    "    \"\"\"\n",
    "    Use pivot tables and groupby objects on the data in\n",
    "    College.csv to answer the following questions:\n",
    "        1. Is there a correlation between the percent of alumni\n",
    "           that donate and the amount the school spends per\n",
    "           student in both private and public universities?\n",
    "        2. Is the graduation rate partition with the greatest\n",
    "           number of schools the same for private and public\n",
    "           universities?\n",
    "        3. Is there an inverse correlation between acceptance\n",
    "           rate and having students from the top 10% of their\n",
    "           high school class?\n",
    "        4. Why is the average percentage of students admitted\n",
    "           from the top 10 percent of their high school class\n",
    "           so high in private universities with very low\n",
    "           acceptance rates? Use only the data to explain why; \n",
    "           do not extrapolate.\n",
    "    \n",
    "    Returns:\n",
    "        ans_1 (bool): answer to question 1\n",
    "        ans_2 (bool): answer to question 2\n",
    "        ans_3 (bool): answer to question 3\n",
    "        ans_4 (str): answer to question 4\n",
    "    \"\"\"\n",
    "    df = pd.read_csv('College.csv')\n",
    "    #print(df.columns)\n",
    "    grouped = df.groupby('Private')\n",
    "    grads = pd.qcut(df['Grad.Rate'], 5)\n",
    "    for name, group in grouped:\n",
    "        print(name, group[['Expend', 'perc.alumni']].corr())\n",
    "    ans1 = True\n",
    "    \n",
    "    grads = pd.qcut(df['Grad.Rate'], 5)\n",
    "    print(df.pivot_table(values='Accept', columns='Private',index=grads, aggfunc='count'))\n",
    "    ans2 = False\n",
    "    \n",
    "    ans3 = False\n",
    "    \n",
    "    ans4 = \"Not sure\"\n",
    "    \n",
    "    return ans1, ans2, ans3, ans4\n",
    "    \n",
    "prob5()"
   ]
  },
  {
   "cell_type": "code",
   "execution_count": null,
   "metadata": {},
   "outputs": [],
   "source": []
  }
 ],
 "metadata": {
  "colab": {
   "collapsed_sections": [],
   "name": "pandas3.ipynb",
   "provenance": [],
   "version": "0.3.2"
  },
  "kernelspec": {
   "display_name": "Python 3",
   "language": "python",
   "name": "python3"
  },
  "language_info": {
   "codemirror_mode": {
    "name": "ipython",
    "version": 3
   },
   "file_extension": ".py",
   "mimetype": "text/x-python",
   "name": "python",
   "nbconvert_exporter": "python",
   "pygments_lexer": "ipython3",
   "version": "3.8.8"
  }
 },
 "nbformat": 4,
 "nbformat_minor": 1
}
